{
 "cells": [
  {
   "cell_type": "markdown",
   "metadata": {},
   "source": [
    "# Introduction"
   ]
  },
  {
   "cell_type": "markdown",
   "metadata": {},
   "source": [
    "* The dataset that is being presented contains statistics on the loans that Chinese banks have made to various industries worldwide.\n",
    "* Data visualisation will be used to attempt to deduce conclusions from the provided data."
   ]
  },
  {
   "cell_type": "markdown",
   "metadata": {},
   "source": [
    "# Importing necessary libraries"
   ]
  },
  {
   "cell_type": "code",
   "execution_count": 1,
   "metadata": {},
   "outputs": [],
   "source": [
    "import pandas as pd #data processing, CSV files\n",
    "import numpy as np #linear algebra\n",
    "import matplotlib.pyplot as plt #data visualization\n",
    "import seaborn as sns #data visualization\n",
    "import warnings\n",
    "warnings.filterwarnings(\"ignore\")"
   ]
  },
  {
   "cell_type": "code",
   "execution_count": 2,
   "metadata": {},
   "outputs": [],
   "source": [
    "import plotly.express as px"
   ]
  },
  {
   "cell_type": "markdown",
   "metadata": {},
   "source": [
    "# Loading the dataset"
   ]
  },
  {
   "cell_type": "code",
   "execution_count": 4,
   "metadata": {},
   "outputs": [],
   "source": [
    "china_data = pd.read_csv(\"china_dept_trap.csv\")"
   ]
  },
  {
   "cell_type": "code",
   "execution_count": 5,
   "metadata": {},
   "outputs": [
    {
     "data": {
      "text/html": [
       "<div>\n",
       "<style scoped>\n",
       "    .dataframe tbody tr th:only-of-type {\n",
       "        vertical-align: middle;\n",
       "    }\n",
       "\n",
       "    .dataframe tbody tr th {\n",
       "        vertical-align: top;\n",
       "    }\n",
       "\n",
       "    .dataframe thead th {\n",
       "        text-align: right;\n",
       "    }\n",
       "</style>\n",
       "<table border=\"1\" class=\"dataframe\">\n",
       "  <thead>\n",
       "    <tr style=\"text-align: right;\">\n",
       "      <th></th>\n",
       "      <th>Expand All | Collapse All</th>\n",
       "      <th>YEAR</th>\n",
       "      <th>AMOUNT</th>\n",
       "      <th>LENDER</th>\n",
       "      <th>BORROWER</th>\n",
       "      <th>SECTOR</th>\n",
       "      <th>SENSITIVE TERRITORY OVERLAP</th>\n",
       "      <th>Country</th>\n",
       "    </tr>\n",
       "  </thead>\n",
       "  <tbody>\n",
       "    <tr>\n",
       "      <th>0</th>\n",
       "      <td>“Lar Patriota\" Infrastructure (Phase 1)</td>\n",
       "      <td>2011</td>\n",
       "      <td>$50M</td>\n",
       "      <td>CDB</td>\n",
       "      <td>Government</td>\n",
       "      <td>Transport</td>\n",
       "      <td>None Known</td>\n",
       "      <td>Angola</td>\n",
       "    </tr>\n",
       "    <tr>\n",
       "      <th>1</th>\n",
       "      <td>10-Year Oil Supply Plan (10Mt/Year), \"Oil for ...</td>\n",
       "      <td>2009</td>\n",
       "      <td>$7.0B</td>\n",
       "      <td>CDB</td>\n",
       "      <td>Petrobras</td>\n",
       "      <td>Extraction, pipelines</td>\n",
       "      <td>None Known</td>\n",
       "      <td>Brazil</td>\n",
       "    </tr>\n",
       "    <tr>\n",
       "      <th>2</th>\n",
       "      <td>1000 housing project</td>\n",
       "      <td>2012</td>\n",
       "      <td>$47M</td>\n",
       "      <td>ExImBank</td>\n",
       "      <td>Government</td>\n",
       "      <td>Government</td>\n",
       "      <td>None Known</td>\n",
       "      <td>Suriname</td>\n",
       "    </tr>\n",
       "    <tr>\n",
       "      <th>3</th>\n",
       "      <td>115kV Transmission Line and Substation from Ph...</td>\n",
       "      <td>2009</td>\n",
       "      <td>$475M</td>\n",
       "      <td>ExImBank</td>\n",
       "      <td>Electricite Du Cambodge</td>\n",
       "      <td>Power</td>\n",
       "      <td>None Known</td>\n",
       "      <td>Cambodia</td>\n",
       "    </tr>\n",
       "    <tr>\n",
       "      <th>4</th>\n",
       "      <td>151 Multisector infrastructure projects</td>\n",
       "      <td>2016</td>\n",
       "      <td>$600M</td>\n",
       "      <td>CDB</td>\n",
       "      <td>Central Bank of Kenya</td>\n",
       "      <td>Mulit-sector/discretionary</td>\n",
       "      <td>None Known</td>\n",
       "      <td>Kenya</td>\n",
       "    </tr>\n",
       "  </tbody>\n",
       "</table>\n",
       "</div>"
      ],
      "text/plain": [
       "                           Expand All | Collapse All  YEAR AMOUNT    LENDER  \\\n",
       "0            “Lar Patriota\" Infrastructure (Phase 1)  2011   $50M       CDB   \n",
       "1  10-Year Oil Supply Plan (10Mt/Year), \"Oil for ...  2009  $7.0B       CDB   \n",
       "2                               1000 housing project  2012   $47M  ExImBank   \n",
       "3  115kV Transmission Line and Substation from Ph...  2009  $475M  ExImBank   \n",
       "4            151 Multisector infrastructure projects  2016  $600M       CDB   \n",
       "\n",
       "                  BORROWER                      SECTOR  \\\n",
       "0               Government                   Transport   \n",
       "1                Petrobras       Extraction, pipelines   \n",
       "2               Government                  Government   \n",
       "3  Electricite Du Cambodge                       Power   \n",
       "4    Central Bank of Kenya  Mulit-sector/discretionary   \n",
       "\n",
       "  SENSITIVE TERRITORY OVERLAP   Country  \n",
       "0                  None Known    Angola  \n",
       "1                  None Known    Brazil  \n",
       "2                  None Known  Suriname  \n",
       "3                  None Known  Cambodia  \n",
       "4                  None Known     Kenya  "
      ]
     },
     "execution_count": 5,
     "metadata": {},
     "output_type": "execute_result"
    }
   ],
   "source": [
    "#Displaying the top 5 rows\n",
    "china_data.head()"
   ]
  },
  {
   "cell_type": "code",
   "execution_count": 6,
   "metadata": {},
   "outputs": [
    {
     "data": {
      "text/html": [
       "<div>\n",
       "<style scoped>\n",
       "    .dataframe tbody tr th:only-of-type {\n",
       "        vertical-align: middle;\n",
       "    }\n",
       "\n",
       "    .dataframe tbody tr th {\n",
       "        vertical-align: top;\n",
       "    }\n",
       "\n",
       "    .dataframe thead th {\n",
       "        text-align: right;\n",
       "    }\n",
       "</style>\n",
       "<table border=\"1\" class=\"dataframe\">\n",
       "  <thead>\n",
       "    <tr style=\"text-align: right;\">\n",
       "      <th></th>\n",
       "      <th>Expand All | Collapse All</th>\n",
       "      <th>YEAR</th>\n",
       "      <th>AMOUNT</th>\n",
       "      <th>LENDER</th>\n",
       "      <th>BORROWER</th>\n",
       "      <th>SECTOR</th>\n",
       "      <th>SENSITIVE TERRITORY OVERLAP</th>\n",
       "      <th>Country</th>\n",
       "    </tr>\n",
       "  </thead>\n",
       "  <tbody>\n",
       "    <tr>\n",
       "      <th>853</th>\n",
       "      <td>Zalingei-El Geneinah Road Construction</td>\n",
       "      <td>2009</td>\n",
       "      <td>$120M</td>\n",
       "      <td>ExImBank</td>\n",
       "      <td>Government</td>\n",
       "      <td>Transport</td>\n",
       "      <td>None Known</td>\n",
       "      <td>Sudan</td>\n",
       "    </tr>\n",
       "    <tr>\n",
       "      <th>854</th>\n",
       "      <td>Zanzibar Airport Terminal 2 Expansion</td>\n",
       "      <td>2010</td>\n",
       "      <td>$73M</td>\n",
       "      <td>ExImBank</td>\n",
       "      <td>Government</td>\n",
       "      <td>Transport</td>\n",
       "      <td>None Known</td>\n",
       "      <td>Tanzania</td>\n",
       "    </tr>\n",
       "    <tr>\n",
       "      <th>855</th>\n",
       "      <td>Zemun-Borca bridge</td>\n",
       "      <td>2009</td>\n",
       "      <td>$217M</td>\n",
       "      <td>ExImBank</td>\n",
       "      <td>Government</td>\n",
       "      <td>Transport</td>\n",
       "      <td>None Known</td>\n",
       "      <td>Serbia</td>\n",
       "    </tr>\n",
       "    <tr>\n",
       "      <th>856</th>\n",
       "      <td>Zongo II Hydropower Station</td>\n",
       "      <td>2011</td>\n",
       "      <td>$367M</td>\n",
       "      <td>ExImBank</td>\n",
       "      <td>Government</td>\n",
       "      <td>Power</td>\n",
       "      <td>None Known</td>\n",
       "      <td>Congo, Democratic Republic of the</td>\n",
       "    </tr>\n",
       "    <tr>\n",
       "      <th>857</th>\n",
       "      <td>Zungeru Hydropower Plant Project</td>\n",
       "      <td>2013</td>\n",
       "      <td>$984M</td>\n",
       "      <td>ExImBank</td>\n",
       "      <td>Government</td>\n",
       "      <td>Power</td>\n",
       "      <td>Within Indigenous Peoples' Lands</td>\n",
       "      <td>Nigeria</td>\n",
       "    </tr>\n",
       "  </tbody>\n",
       "</table>\n",
       "</div>"
      ],
      "text/plain": [
       "                  Expand All | Collapse All  YEAR AMOUNT    LENDER  \\\n",
       "853  Zalingei-El Geneinah Road Construction  2009  $120M  ExImBank   \n",
       "854   Zanzibar Airport Terminal 2 Expansion  2010   $73M  ExImBank   \n",
       "855                      Zemun-Borca bridge  2009  $217M  ExImBank   \n",
       "856             Zongo II Hydropower Station  2011  $367M  ExImBank   \n",
       "857        Zungeru Hydropower Plant Project  2013  $984M  ExImBank   \n",
       "\n",
       "       BORROWER     SECTOR       SENSITIVE TERRITORY OVERLAP  \\\n",
       "853  Government  Transport                        None Known   \n",
       "854  Government  Transport                        None Known   \n",
       "855  Government  Transport                        None Known   \n",
       "856  Government      Power                        None Known   \n",
       "857  Government      Power  Within Indigenous Peoples' Lands   \n",
       "\n",
       "                               Country  \n",
       "853                              Sudan  \n",
       "854                           Tanzania  \n",
       "855                             Serbia  \n",
       "856  Congo, Democratic Republic of the  \n",
       "857                            Nigeria  "
      ]
     },
     "execution_count": 6,
     "metadata": {},
     "output_type": "execute_result"
    }
   ],
   "source": [
    "#Displaying the bottom 5 rows\n",
    "china_data.tail()"
   ]
  },
  {
   "cell_type": "markdown",
   "metadata": {},
   "source": [
    "* The provided data is organised into 8 columns and pertains to 858 loans.\n",
    "* The year the loan was obtained is indicated in the \"YEAR\" column.\n",
    "* The loan amount, in millions or billions, is listed in the \"AMOUNT\" column.\n",
    "* The Chinese bank that provided the loan is identified in the \"LENDER\" column.\n",
    "* The \"BORROWER\" column lists the borrower, which may be either the government or a private business.\n",
    "* The sector for which the loan was obtained is indicated in the \"SECTOR\" column.\n",
    "* The country that has accepted the loan is identified in the \"COUNTRY\" column.\n",
    "* We need to study the \"Expand All | Collapse All\" and \"SENSITIVE TERRITORY OVERLAP\" columns carefully."
   ]
  },
  {
   "cell_type": "markdown",
   "metadata": {},
   "source": [
    "# Exploratory Data Analysis"
   ]
  },
  {
   "cell_type": "code",
   "execution_count": 8,
   "metadata": {},
   "outputs": [
    {
     "data": {
      "text/plain": [
       "(858, 8)"
      ]
     },
     "execution_count": 8,
     "metadata": {},
     "output_type": "execute_result"
    }
   ],
   "source": [
    "#Count the number of rows and columns\n",
    "china_data.shape"
   ]
  },
  {
   "cell_type": "markdown",
   "metadata": {},
   "source": [
    "The dataset has 858 rows and 8 columns."
   ]
  },
  {
   "cell_type": "code",
   "execution_count": 9,
   "metadata": {},
   "outputs": [
    {
     "data": {
      "text/plain": [
       "Index(['Expand All | Collapse All', 'YEAR', 'AMOUNT', 'LENDER', 'BORROWER',\n",
       "       'SECTOR', 'SENSITIVE TERRITORY OVERLAP', 'Country'],\n",
       "      dtype='object')"
      ]
     },
     "execution_count": 9,
     "metadata": {},
     "output_type": "execute_result"
    }
   ],
   "source": [
    "#Displaying the column heading\n",
    "china_data.columns"
   ]
  },
  {
   "cell_type": "markdown",
   "metadata": {},
   "source": [
    "The names of all the columns have been displayed and the data type of all the column names is 'Object'."
   ]
  },
  {
   "cell_type": "code",
   "execution_count": 10,
   "metadata": {},
   "outputs": [
    {
     "name": "stdout",
     "output_type": "stream",
     "text": [
      "<class 'pandas.core.frame.DataFrame'>\n",
      "RangeIndex: 858 entries, 0 to 857\n",
      "Data columns (total 8 columns):\n",
      " #   Column                       Non-Null Count  Dtype \n",
      "---  ------                       --------------  ----- \n",
      " 0   Expand All | Collapse All    858 non-null    object\n",
      " 1   YEAR                         858 non-null    int64 \n",
      " 2   AMOUNT                       858 non-null    object\n",
      " 3   LENDER                       858 non-null    object\n",
      " 4   BORROWER                     857 non-null    object\n",
      " 5   SECTOR                       858 non-null    object\n",
      " 6   SENSITIVE TERRITORY OVERLAP  858 non-null    object\n",
      " 7   Country                      858 non-null    object\n",
      "dtypes: int64(1), object(7)\n",
      "memory usage: 53.8+ KB\n"
     ]
    }
   ],
   "source": [
    "#Displaying the information\n",
    "china_data.info()"
   ]
  },
  {
   "cell_type": "markdown",
   "metadata": {},
   "source": [
    "* YEAR column has numerical data\n",
    "* Except 'YEAR' column all other columns have text data."
   ]
  },
  {
   "cell_type": "code",
   "execution_count": 11,
   "metadata": {},
   "outputs": [
    {
     "data": {
      "text/html": [
       "<div>\n",
       "<style scoped>\n",
       "    .dataframe tbody tr th:only-of-type {\n",
       "        vertical-align: middle;\n",
       "    }\n",
       "\n",
       "    .dataframe tbody tr th {\n",
       "        vertical-align: top;\n",
       "    }\n",
       "\n",
       "    .dataframe thead th {\n",
       "        text-align: right;\n",
       "    }\n",
       "</style>\n",
       "<table border=\"1\" class=\"dataframe\">\n",
       "  <thead>\n",
       "    <tr style=\"text-align: right;\">\n",
       "      <th></th>\n",
       "      <th>YEAR</th>\n",
       "    </tr>\n",
       "  </thead>\n",
       "  <tbody>\n",
       "    <tr>\n",
       "      <th>count</th>\n",
       "      <td>858.000000</td>\n",
       "    </tr>\n",
       "    <tr>\n",
       "      <th>mean</th>\n",
       "      <td>2013.268065</td>\n",
       "    </tr>\n",
       "    <tr>\n",
       "      <th>std</th>\n",
       "      <td>2.894155</td>\n",
       "    </tr>\n",
       "    <tr>\n",
       "      <th>min</th>\n",
       "      <td>2008.000000</td>\n",
       "    </tr>\n",
       "    <tr>\n",
       "      <th>25%</th>\n",
       "      <td>2011.000000</td>\n",
       "    </tr>\n",
       "    <tr>\n",
       "      <th>50%</th>\n",
       "      <td>2013.000000</td>\n",
       "    </tr>\n",
       "    <tr>\n",
       "      <th>75%</th>\n",
       "      <td>2016.000000</td>\n",
       "    </tr>\n",
       "    <tr>\n",
       "      <th>max</th>\n",
       "      <td>2019.000000</td>\n",
       "    </tr>\n",
       "  </tbody>\n",
       "</table>\n",
       "</div>"
      ],
      "text/plain": [
       "              YEAR\n",
       "count   858.000000\n",
       "mean   2013.268065\n",
       "std       2.894155\n",
       "min    2008.000000\n",
       "25%    2011.000000\n",
       "50%    2013.000000\n",
       "75%    2016.000000\n",
       "max    2019.000000"
      ]
     },
     "execution_count": 11,
     "metadata": {},
     "output_type": "execute_result"
    }
   ],
   "source": [
    "#State the summary\n",
    "china_data.describe()"
   ]
  },
  {
   "cell_type": "markdown",
   "metadata": {},
   "source": [
    "The statistical summary of 'YEAR' column has been displayed since it is the only numerical column in the dataset."
   ]
  },
  {
   "cell_type": "code",
   "execution_count": 12,
   "metadata": {},
   "outputs": [
    {
     "data": {
      "text/plain": [
       "Expand All | Collapse All      0\n",
       "YEAR                           0\n",
       "AMOUNT                         0\n",
       "LENDER                         0\n",
       "BORROWER                       1\n",
       "SECTOR                         0\n",
       "SENSITIVE TERRITORY OVERLAP    0\n",
       "Country                        0\n",
       "dtype: int64"
      ]
     },
     "execution_count": 12,
     "metadata": {},
     "output_type": "execute_result"
    }
   ],
   "source": [
    "#Checking the null values\n",
    "china_data.isnull().sum()"
   ]
  },
  {
   "cell_type": "markdown",
   "metadata": {},
   "source": [
    "There is one null value present in the 'BORROWER' column. We need to drop the entire row consisting of the null value."
   ]
  },
  {
   "cell_type": "code",
   "execution_count": 13,
   "metadata": {},
   "outputs": [],
   "source": [
    "#Dropping the null values\n",
    "china_data.dropna(inplace = True)"
   ]
  },
  {
   "cell_type": "markdown",
   "metadata": {},
   "source": [
    "We have dropped the row where there was null value in 'BORROWER' column. The data is free from null values. Now there are 857 rows and 8 columns."
   ]
  },
  {
   "cell_type": "code",
   "execution_count": 14,
   "metadata": {},
   "outputs": [
    {
     "data": {
      "text/html": [
       "<div>\n",
       "<style scoped>\n",
       "    .dataframe tbody tr th:only-of-type {\n",
       "        vertical-align: middle;\n",
       "    }\n",
       "\n",
       "    .dataframe tbody tr th {\n",
       "        vertical-align: top;\n",
       "    }\n",
       "\n",
       "    .dataframe thead th {\n",
       "        text-align: right;\n",
       "    }\n",
       "</style>\n",
       "<table border=\"1\" class=\"dataframe\">\n",
       "  <thead>\n",
       "    <tr style=\"text-align: right;\">\n",
       "      <th></th>\n",
       "      <th>Expand All | Collapse All</th>\n",
       "      <th>YEAR</th>\n",
       "      <th>AMOUNT</th>\n",
       "      <th>LENDER</th>\n",
       "      <th>BORROWER</th>\n",
       "      <th>SECTOR</th>\n",
       "      <th>SENSITIVE TERRITORY OVERLAP</th>\n",
       "      <th>Country</th>\n",
       "    </tr>\n",
       "  </thead>\n",
       "  <tbody>\n",
       "    <tr>\n",
       "      <th>0</th>\n",
       "      <td>“Lar Patriota\" Infrastructure (Phase 1)</td>\n",
       "      <td>2011</td>\n",
       "      <td>$50M</td>\n",
       "      <td>CDB</td>\n",
       "      <td>Government</td>\n",
       "      <td>Transport</td>\n",
       "      <td>None Known</td>\n",
       "      <td>Angola</td>\n",
       "    </tr>\n",
       "    <tr>\n",
       "      <th>1</th>\n",
       "      <td>10-Year Oil Supply Plan (10Mt/Year), \"Oil for ...</td>\n",
       "      <td>2009</td>\n",
       "      <td>$7.0B</td>\n",
       "      <td>CDB</td>\n",
       "      <td>Petrobras</td>\n",
       "      <td>Extraction, pipelines</td>\n",
       "      <td>None Known</td>\n",
       "      <td>Brazil</td>\n",
       "    </tr>\n",
       "    <tr>\n",
       "      <th>2</th>\n",
       "      <td>1000 housing project</td>\n",
       "      <td>2012</td>\n",
       "      <td>$47M</td>\n",
       "      <td>ExImBank</td>\n",
       "      <td>Government</td>\n",
       "      <td>Government</td>\n",
       "      <td>None Known</td>\n",
       "      <td>Suriname</td>\n",
       "    </tr>\n",
       "    <tr>\n",
       "      <th>3</th>\n",
       "      <td>115kV Transmission Line and Substation from Ph...</td>\n",
       "      <td>2009</td>\n",
       "      <td>$475M</td>\n",
       "      <td>ExImBank</td>\n",
       "      <td>Electricite Du Cambodge</td>\n",
       "      <td>Power</td>\n",
       "      <td>None Known</td>\n",
       "      <td>Cambodia</td>\n",
       "    </tr>\n",
       "    <tr>\n",
       "      <th>4</th>\n",
       "      <td>151 Multisector infrastructure projects</td>\n",
       "      <td>2016</td>\n",
       "      <td>$600M</td>\n",
       "      <td>CDB</td>\n",
       "      <td>Central Bank of Kenya</td>\n",
       "      <td>Mulit-sector/discretionary</td>\n",
       "      <td>None Known</td>\n",
       "      <td>Kenya</td>\n",
       "    </tr>\n",
       "    <tr>\n",
       "      <th>...</th>\n",
       "      <td>...</td>\n",
       "      <td>...</td>\n",
       "      <td>...</td>\n",
       "      <td>...</td>\n",
       "      <td>...</td>\n",
       "      <td>...</td>\n",
       "      <td>...</td>\n",
       "      <td>...</td>\n",
       "    </tr>\n",
       "    <tr>\n",
       "      <th>852</th>\n",
       "      <td>Zalingei-El Geneinah Road Construction</td>\n",
       "      <td>2009</td>\n",
       "      <td>$120M</td>\n",
       "      <td>ExImBank</td>\n",
       "      <td>Government</td>\n",
       "      <td>Transport</td>\n",
       "      <td>None Known</td>\n",
       "      <td>Sudan</td>\n",
       "    </tr>\n",
       "    <tr>\n",
       "      <th>853</th>\n",
       "      <td>Zanzibar Airport Terminal 2 Expansion</td>\n",
       "      <td>2010</td>\n",
       "      <td>$73M</td>\n",
       "      <td>ExImBank</td>\n",
       "      <td>Government</td>\n",
       "      <td>Transport</td>\n",
       "      <td>None Known</td>\n",
       "      <td>Tanzania</td>\n",
       "    </tr>\n",
       "    <tr>\n",
       "      <th>854</th>\n",
       "      <td>Zemun-Borca bridge</td>\n",
       "      <td>2009</td>\n",
       "      <td>$217M</td>\n",
       "      <td>ExImBank</td>\n",
       "      <td>Government</td>\n",
       "      <td>Transport</td>\n",
       "      <td>None Known</td>\n",
       "      <td>Serbia</td>\n",
       "    </tr>\n",
       "    <tr>\n",
       "      <th>855</th>\n",
       "      <td>Zongo II Hydropower Station</td>\n",
       "      <td>2011</td>\n",
       "      <td>$367M</td>\n",
       "      <td>ExImBank</td>\n",
       "      <td>Government</td>\n",
       "      <td>Power</td>\n",
       "      <td>None Known</td>\n",
       "      <td>Congo, Democratic Republic of the</td>\n",
       "    </tr>\n",
       "    <tr>\n",
       "      <th>856</th>\n",
       "      <td>Zungeru Hydropower Plant Project</td>\n",
       "      <td>2013</td>\n",
       "      <td>$984M</td>\n",
       "      <td>ExImBank</td>\n",
       "      <td>Government</td>\n",
       "      <td>Power</td>\n",
       "      <td>Within Indigenous Peoples' Lands</td>\n",
       "      <td>Nigeria</td>\n",
       "    </tr>\n",
       "  </tbody>\n",
       "</table>\n",
       "<p>857 rows × 8 columns</p>\n",
       "</div>"
      ],
      "text/plain": [
       "                             Expand All | Collapse All  YEAR AMOUNT    LENDER  \\\n",
       "0              “Lar Patriota\" Infrastructure (Phase 1)  2011   $50M       CDB   \n",
       "1    10-Year Oil Supply Plan (10Mt/Year), \"Oil for ...  2009  $7.0B       CDB   \n",
       "2                                 1000 housing project  2012   $47M  ExImBank   \n",
       "3    115kV Transmission Line and Substation from Ph...  2009  $475M  ExImBank   \n",
       "4              151 Multisector infrastructure projects  2016  $600M       CDB   \n",
       "..                                                 ...   ...    ...       ...   \n",
       "852             Zalingei-El Geneinah Road Construction  2009  $120M  ExImBank   \n",
       "853              Zanzibar Airport Terminal 2 Expansion  2010   $73M  ExImBank   \n",
       "854                                 Zemun-Borca bridge  2009  $217M  ExImBank   \n",
       "855                        Zongo II Hydropower Station  2011  $367M  ExImBank   \n",
       "856                   Zungeru Hydropower Plant Project  2013  $984M  ExImBank   \n",
       "\n",
       "                    BORROWER                      SECTOR  \\\n",
       "0                 Government                   Transport   \n",
       "1                  Petrobras       Extraction, pipelines   \n",
       "2                 Government                  Government   \n",
       "3    Electricite Du Cambodge                       Power   \n",
       "4      Central Bank of Kenya  Mulit-sector/discretionary   \n",
       "..                       ...                         ...   \n",
       "852               Government                   Transport   \n",
       "853               Government                   Transport   \n",
       "854               Government                   Transport   \n",
       "855               Government                       Power   \n",
       "856               Government                       Power   \n",
       "\n",
       "          SENSITIVE TERRITORY OVERLAP                            Country  \n",
       "0                          None Known                             Angola  \n",
       "1                          None Known                             Brazil  \n",
       "2                          None Known                           Suriname  \n",
       "3                          None Known                           Cambodia  \n",
       "4                          None Known                              Kenya  \n",
       "..                                ...                                ...  \n",
       "852                        None Known                              Sudan  \n",
       "853                        None Known                           Tanzania  \n",
       "854                        None Known                             Serbia  \n",
       "855                        None Known  Congo, Democratic Republic of the  \n",
       "856  Within Indigenous Peoples' Lands                            Nigeria  \n",
       "\n",
       "[857 rows x 8 columns]"
      ]
     },
     "execution_count": 14,
     "metadata": {},
     "output_type": "execute_result"
    }
   ],
   "source": [
    "#Modifying the index of dataframe\n",
    "china_data.index = np.arange(857)\n",
    "china_data"
   ]
  },
  {
   "cell_type": "markdown",
   "metadata": {},
   "source": [
    "We have modified the index of our dataframe by assigning a array of serial numbers to it."
   ]
  },
  {
   "cell_type": "markdown",
   "metadata": {},
   "source": [
    "# Data Preprocessing"
   ]
  },
  {
   "cell_type": "code",
   "execution_count": 15,
   "metadata": {},
   "outputs": [
    {
     "data": {
      "text/plain": [
       "0       $50M\n",
       "1      $7.0B\n",
       "2       $47M\n",
       "3      $475M\n",
       "4      $600M\n",
       "       ...  \n",
       "852    $120M\n",
       "853     $73M\n",
       "854    $217M\n",
       "855    $367M\n",
       "856    $984M\n",
       "Name: AMOUNT, Length: 857, dtype: object"
      ]
     },
     "execution_count": 15,
     "metadata": {},
     "output_type": "execute_result"
    }
   ],
   "source": [
    "china_data['AMOUNT']"
   ]
  },
  {
   "cell_type": "markdown",
   "metadata": {},
   "source": [
    "* The \"AMOUNT\" column has only strings for values.\n",
    "* All of the values must be transformed into numbers so that we may plot them and make conclusions.\n",
    "* To extract individual values from the column \"AMOUNT,\" we must repeatedly iterate over the column.\n",
    "* Now that we have these values, we must endeavour to convert them all to numerical forms."
   ]
  },
  {
   "cell_type": "code",
   "execution_count": 16,
   "metadata": {},
   "outputs": [],
   "source": [
    "def amount(a):\n",
    "    y=a\n",
    "    if ',' in a:\n",
    "        a=a.replace(',','')\n",
    "    a=float(a[1:-1])\n",
    "    if y[-1]=='M':\n",
    "        return a*1000000\n",
    "    elif y[-1]=='B':\n",
    "        return a*1000000000\n",
    "    else:\n",
    "        return 'Please check'"
   ]
  },
  {
   "cell_type": "code",
   "execution_count": 17,
   "metadata": {},
   "outputs": [],
   "source": [
    "china_data['AMOUNT']=china_data['AMOUNT'].apply(amount)"
   ]
  },
  {
   "cell_type": "code",
   "execution_count": 18,
   "metadata": {},
   "outputs": [
    {
     "data": {
      "text/html": [
       "<div>\n",
       "<style scoped>\n",
       "    .dataframe tbody tr th:only-of-type {\n",
       "        vertical-align: middle;\n",
       "    }\n",
       "\n",
       "    .dataframe tbody tr th {\n",
       "        vertical-align: top;\n",
       "    }\n",
       "\n",
       "    .dataframe thead th {\n",
       "        text-align: right;\n",
       "    }\n",
       "</style>\n",
       "<table border=\"1\" class=\"dataframe\">\n",
       "  <thead>\n",
       "    <tr style=\"text-align: right;\">\n",
       "      <th></th>\n",
       "      <th>Expand All | Collapse All</th>\n",
       "      <th>YEAR</th>\n",
       "      <th>AMOUNT</th>\n",
       "      <th>LENDER</th>\n",
       "      <th>BORROWER</th>\n",
       "      <th>SECTOR</th>\n",
       "      <th>SENSITIVE TERRITORY OVERLAP</th>\n",
       "      <th>Country</th>\n",
       "    </tr>\n",
       "  </thead>\n",
       "  <tbody>\n",
       "    <tr>\n",
       "      <th>0</th>\n",
       "      <td>“Lar Patriota\" Infrastructure (Phase 1)</td>\n",
       "      <td>2011</td>\n",
       "      <td>5.000000e+07</td>\n",
       "      <td>CDB</td>\n",
       "      <td>Government</td>\n",
       "      <td>Transport</td>\n",
       "      <td>None Known</td>\n",
       "      <td>Angola</td>\n",
       "    </tr>\n",
       "    <tr>\n",
       "      <th>1</th>\n",
       "      <td>10-Year Oil Supply Plan (10Mt/Year), \"Oil for ...</td>\n",
       "      <td>2009</td>\n",
       "      <td>7.000000e+09</td>\n",
       "      <td>CDB</td>\n",
       "      <td>Petrobras</td>\n",
       "      <td>Extraction, pipelines</td>\n",
       "      <td>None Known</td>\n",
       "      <td>Brazil</td>\n",
       "    </tr>\n",
       "    <tr>\n",
       "      <th>2</th>\n",
       "      <td>1000 housing project</td>\n",
       "      <td>2012</td>\n",
       "      <td>4.700000e+07</td>\n",
       "      <td>ExImBank</td>\n",
       "      <td>Government</td>\n",
       "      <td>Government</td>\n",
       "      <td>None Known</td>\n",
       "      <td>Suriname</td>\n",
       "    </tr>\n",
       "    <tr>\n",
       "      <th>3</th>\n",
       "      <td>115kV Transmission Line and Substation from Ph...</td>\n",
       "      <td>2009</td>\n",
       "      <td>4.750000e+08</td>\n",
       "      <td>ExImBank</td>\n",
       "      <td>Electricite Du Cambodge</td>\n",
       "      <td>Power</td>\n",
       "      <td>None Known</td>\n",
       "      <td>Cambodia</td>\n",
       "    </tr>\n",
       "    <tr>\n",
       "      <th>4</th>\n",
       "      <td>151 Multisector infrastructure projects</td>\n",
       "      <td>2016</td>\n",
       "      <td>6.000000e+08</td>\n",
       "      <td>CDB</td>\n",
       "      <td>Central Bank of Kenya</td>\n",
       "      <td>Mulit-sector/discretionary</td>\n",
       "      <td>None Known</td>\n",
       "      <td>Kenya</td>\n",
       "    </tr>\n",
       "  </tbody>\n",
       "</table>\n",
       "</div>"
      ],
      "text/plain": [
       "                           Expand All | Collapse All  YEAR        AMOUNT  \\\n",
       "0            “Lar Patriota\" Infrastructure (Phase 1)  2011  5.000000e+07   \n",
       "1  10-Year Oil Supply Plan (10Mt/Year), \"Oil for ...  2009  7.000000e+09   \n",
       "2                               1000 housing project  2012  4.700000e+07   \n",
       "3  115kV Transmission Line and Substation from Ph...  2009  4.750000e+08   \n",
       "4            151 Multisector infrastructure projects  2016  6.000000e+08   \n",
       "\n",
       "     LENDER                 BORROWER                      SECTOR  \\\n",
       "0       CDB               Government                   Transport   \n",
       "1       CDB                Petrobras       Extraction, pipelines   \n",
       "2  ExImBank               Government                  Government   \n",
       "3  ExImBank  Electricite Du Cambodge                       Power   \n",
       "4       CDB    Central Bank of Kenya  Mulit-sector/discretionary   \n",
       "\n",
       "  SENSITIVE TERRITORY OVERLAP   Country  \n",
       "0                  None Known    Angola  \n",
       "1                  None Known    Brazil  \n",
       "2                  None Known  Suriname  \n",
       "3                  None Known  Cambodia  \n",
       "4                  None Known     Kenya  "
      ]
     },
     "execution_count": 18,
     "metadata": {},
     "output_type": "execute_result"
    }
   ],
   "source": [
    "china_data.head()"
   ]
  },
  {
   "cell_type": "code",
   "execution_count": 19,
   "metadata": {},
   "outputs": [
    {
     "data": {
      "text/plain": [
       "numpy.float64"
      ]
     },
     "execution_count": 19,
     "metadata": {},
     "output_type": "execute_result"
    }
   ],
   "source": [
    "type(china_data['AMOUNT'][1])"
   ]
  },
  {
   "cell_type": "markdown",
   "metadata": {},
   "source": [
    "The values are replaced and now the data type of values is numerical."
   ]
  },
  {
   "cell_type": "code",
   "execution_count": 20,
   "metadata": {},
   "outputs": [
    {
     "data": {
      "text/plain": [
       "827"
      ]
     },
     "execution_count": 20,
     "metadata": {},
     "output_type": "execute_result"
    }
   ],
   "source": [
    "len(china_data['Expand All | Collapse All'].unique())"
   ]
  },
  {
   "cell_type": "markdown",
   "metadata": {},
   "source": [
    "* As we've seen, the dataframe is 827 bytes long and has 827 distinct values for \"Expand All | Collapse All.\"\n",
    "* Thus, we cannot use this functionality.\n",
    "* We must drop it."
   ]
  },
  {
   "cell_type": "code",
   "execution_count": 21,
   "metadata": {},
   "outputs": [
    {
     "data": {
      "text/html": [
       "<div>\n",
       "<style scoped>\n",
       "    .dataframe tbody tr th:only-of-type {\n",
       "        vertical-align: middle;\n",
       "    }\n",
       "\n",
       "    .dataframe tbody tr th {\n",
       "        vertical-align: top;\n",
       "    }\n",
       "\n",
       "    .dataframe thead th {\n",
       "        text-align: right;\n",
       "    }\n",
       "</style>\n",
       "<table border=\"1\" class=\"dataframe\">\n",
       "  <thead>\n",
       "    <tr style=\"text-align: right;\">\n",
       "      <th></th>\n",
       "      <th>YEAR</th>\n",
       "      <th>AMOUNT</th>\n",
       "      <th>LENDER</th>\n",
       "      <th>BORROWER</th>\n",
       "      <th>SECTOR</th>\n",
       "      <th>SENSITIVE TERRITORY OVERLAP</th>\n",
       "      <th>Country</th>\n",
       "    </tr>\n",
       "  </thead>\n",
       "  <tbody>\n",
       "    <tr>\n",
       "      <th>0</th>\n",
       "      <td>2011</td>\n",
       "      <td>5.000000e+07</td>\n",
       "      <td>CDB</td>\n",
       "      <td>Government</td>\n",
       "      <td>Transport</td>\n",
       "      <td>None Known</td>\n",
       "      <td>Angola</td>\n",
       "    </tr>\n",
       "    <tr>\n",
       "      <th>1</th>\n",
       "      <td>2009</td>\n",
       "      <td>7.000000e+09</td>\n",
       "      <td>CDB</td>\n",
       "      <td>Petrobras</td>\n",
       "      <td>Extraction, pipelines</td>\n",
       "      <td>None Known</td>\n",
       "      <td>Brazil</td>\n",
       "    </tr>\n",
       "    <tr>\n",
       "      <th>2</th>\n",
       "      <td>2012</td>\n",
       "      <td>4.700000e+07</td>\n",
       "      <td>ExImBank</td>\n",
       "      <td>Government</td>\n",
       "      <td>Government</td>\n",
       "      <td>None Known</td>\n",
       "      <td>Suriname</td>\n",
       "    </tr>\n",
       "    <tr>\n",
       "      <th>3</th>\n",
       "      <td>2009</td>\n",
       "      <td>4.750000e+08</td>\n",
       "      <td>ExImBank</td>\n",
       "      <td>Electricite Du Cambodge</td>\n",
       "      <td>Power</td>\n",
       "      <td>None Known</td>\n",
       "      <td>Cambodia</td>\n",
       "    </tr>\n",
       "    <tr>\n",
       "      <th>4</th>\n",
       "      <td>2016</td>\n",
       "      <td>6.000000e+08</td>\n",
       "      <td>CDB</td>\n",
       "      <td>Central Bank of Kenya</td>\n",
       "      <td>Mulit-sector/discretionary</td>\n",
       "      <td>None Known</td>\n",
       "      <td>Kenya</td>\n",
       "    </tr>\n",
       "    <tr>\n",
       "      <th>...</th>\n",
       "      <td>...</td>\n",
       "      <td>...</td>\n",
       "      <td>...</td>\n",
       "      <td>...</td>\n",
       "      <td>...</td>\n",
       "      <td>...</td>\n",
       "      <td>...</td>\n",
       "    </tr>\n",
       "    <tr>\n",
       "      <th>852</th>\n",
       "      <td>2009</td>\n",
       "      <td>1.200000e+08</td>\n",
       "      <td>ExImBank</td>\n",
       "      <td>Government</td>\n",
       "      <td>Transport</td>\n",
       "      <td>None Known</td>\n",
       "      <td>Sudan</td>\n",
       "    </tr>\n",
       "    <tr>\n",
       "      <th>853</th>\n",
       "      <td>2010</td>\n",
       "      <td>7.300000e+07</td>\n",
       "      <td>ExImBank</td>\n",
       "      <td>Government</td>\n",
       "      <td>Transport</td>\n",
       "      <td>None Known</td>\n",
       "      <td>Tanzania</td>\n",
       "    </tr>\n",
       "    <tr>\n",
       "      <th>854</th>\n",
       "      <td>2009</td>\n",
       "      <td>2.170000e+08</td>\n",
       "      <td>ExImBank</td>\n",
       "      <td>Government</td>\n",
       "      <td>Transport</td>\n",
       "      <td>None Known</td>\n",
       "      <td>Serbia</td>\n",
       "    </tr>\n",
       "    <tr>\n",
       "      <th>855</th>\n",
       "      <td>2011</td>\n",
       "      <td>3.670000e+08</td>\n",
       "      <td>ExImBank</td>\n",
       "      <td>Government</td>\n",
       "      <td>Power</td>\n",
       "      <td>None Known</td>\n",
       "      <td>Congo, Democratic Republic of the</td>\n",
       "    </tr>\n",
       "    <tr>\n",
       "      <th>856</th>\n",
       "      <td>2013</td>\n",
       "      <td>9.840000e+08</td>\n",
       "      <td>ExImBank</td>\n",
       "      <td>Government</td>\n",
       "      <td>Power</td>\n",
       "      <td>Within Indigenous Peoples' Lands</td>\n",
       "      <td>Nigeria</td>\n",
       "    </tr>\n",
       "  </tbody>\n",
       "</table>\n",
       "<p>857 rows × 7 columns</p>\n",
       "</div>"
      ],
      "text/plain": [
       "     YEAR        AMOUNT    LENDER                 BORROWER  \\\n",
       "0    2011  5.000000e+07       CDB               Government   \n",
       "1    2009  7.000000e+09       CDB                Petrobras   \n",
       "2    2012  4.700000e+07  ExImBank               Government   \n",
       "3    2009  4.750000e+08  ExImBank  Electricite Du Cambodge   \n",
       "4    2016  6.000000e+08       CDB    Central Bank of Kenya   \n",
       "..    ...           ...       ...                      ...   \n",
       "852  2009  1.200000e+08  ExImBank               Government   \n",
       "853  2010  7.300000e+07  ExImBank               Government   \n",
       "854  2009  2.170000e+08  ExImBank               Government   \n",
       "855  2011  3.670000e+08  ExImBank               Government   \n",
       "856  2013  9.840000e+08  ExImBank               Government   \n",
       "\n",
       "                         SECTOR       SENSITIVE TERRITORY OVERLAP  \\\n",
       "0                     Transport                        None Known   \n",
       "1         Extraction, pipelines                        None Known   \n",
       "2                    Government                        None Known   \n",
       "3                         Power                        None Known   \n",
       "4    Mulit-sector/discretionary                        None Known   \n",
       "..                          ...                               ...   \n",
       "852                   Transport                        None Known   \n",
       "853                   Transport                        None Known   \n",
       "854                   Transport                        None Known   \n",
       "855                       Power                        None Known   \n",
       "856                       Power  Within Indigenous Peoples' Lands   \n",
       "\n",
       "                               Country  \n",
       "0                               Angola  \n",
       "1                               Brazil  \n",
       "2                             Suriname  \n",
       "3                             Cambodia  \n",
       "4                                Kenya  \n",
       "..                                 ...  \n",
       "852                              Sudan  \n",
       "853                           Tanzania  \n",
       "854                             Serbia  \n",
       "855  Congo, Democratic Republic of the  \n",
       "856                            Nigeria  \n",
       "\n",
       "[857 rows x 7 columns]"
      ]
     },
     "execution_count": 21,
     "metadata": {},
     "output_type": "execute_result"
    }
   ],
   "source": [
    "china_data.drop('Expand All | Collapse All', axis = 1, inplace = True)\n",
    "china_data"
   ]
  },
  {
   "cell_type": "code",
   "execution_count": 23,
   "metadata": {},
   "outputs": [
    {
     "data": {
      "text/plain": [
       "array(['Transport', 'Extraction, pipelines', 'Government', 'Power',\n",
       "       'Mulit-sector/discretionary', 'Telecom', 'Other construction',\n",
       "       'Agriculture, food', 'Manufacturing', 'fTransport'], dtype=object)"
      ]
     },
     "execution_count": 23,
     "metadata": {},
     "output_type": "execute_result"
    }
   ],
   "source": [
    "china_data['SECTOR'].unique()"
   ]
  },
  {
   "cell_type": "code",
   "execution_count": 25,
   "metadata": {},
   "outputs": [
    {
     "data": {
      "text/plain": [
       "Transport                     316\n",
       "Power                         203\n",
       "Government                    138\n",
       "Telecom                        63\n",
       "Extraction, pipelines          38\n",
       "Mulit-sector/discretionary     30\n",
       "Other construction             29\n",
       "Agriculture, food              27\n",
       "Manufacturing                  12\n",
       "fTransport                      1\n",
       "Name: SECTOR, dtype: int64"
      ]
     },
     "execution_count": 25,
     "metadata": {},
     "output_type": "execute_result"
    }
   ],
   "source": [
    "china_data['SECTOR'].value_counts()"
   ]
  },
  {
   "cell_type": "markdown",
   "metadata": {},
   "source": [
    "* fTransport in this case just has one value. So that value may be added to Transport.\n",
    "* We may also change Agriculture, Food to \"Agriculture and Food\" and \"Extraction, Pipelines\" to \"extraction and pipelines.\"\n",
    "* It is possible to rename \"multi-sector/discretionary\" to \"multi-sector and discretionary.\""
   ]
  },
  {
   "cell_type": "code",
   "execution_count": 26,
   "metadata": {},
   "outputs": [],
   "source": [
    "china_data['SECTOR'] = china_data['SECTOR'].str.replace('fTransport','Transport')\n",
    "china_data['SECTOR'] = china_data['SECTOR'].str.replace('Extraction, pipelines','Extraction and Pipelines')\n",
    "china_data['SECTOR'] = china_data['SECTOR'].str.replace('Agriculture, food','Agricultiure and Food')\n",
    "china_data['SECTOR'] = china_data['SECTOR'].str.replace('/discretionary',' and discretionary')"
   ]
  },
  {
   "cell_type": "code",
   "execution_count": 27,
   "metadata": {},
   "outputs": [
    {
     "data": {
      "text/plain": [
       "Transport                         317\n",
       "Power                             203\n",
       "Government                        138\n",
       "Telecom                            63\n",
       "Extraction and Pipelines           38\n",
       "Mulit-sector and discretionary     30\n",
       "Other construction                 29\n",
       "Agricultiure and Food              27\n",
       "Manufacturing                      12\n",
       "Name: SECTOR, dtype: int64"
      ]
     },
     "execution_count": 27,
     "metadata": {},
     "output_type": "execute_result"
    }
   ],
   "source": [
    "china_data['SECTOR'].value_counts()"
   ]
  },
  {
   "cell_type": "markdown",
   "metadata": {},
   "source": [
    "* Now the 'SECTOR' column is readable and can be plotted in graphs.\n",
    "* Our next step is to change the 'LENDER' column.\n",
    "* For that we need to check the unique values and value counts."
   ]
  },
  {
   "cell_type": "code",
   "execution_count": 28,
   "metadata": {},
   "outputs": [
    {
     "data": {
      "text/plain": [
       "array(['CDB', 'ExImBank', 'CDB, ExImBank', 'BOC, CDB, ExImBank',\n",
       "       'CDB, ICBC', 'CDB, others', 'CDB, Citic'], dtype=object)"
      ]
     },
     "execution_count": 28,
     "metadata": {},
     "output_type": "execute_result"
    }
   ],
   "source": [
    "#Displaying the unique variables of the column 'LENDER'\n",
    "china_data['LENDER'].unique()"
   ]
  },
  {
   "cell_type": "code",
   "execution_count": 29,
   "metadata": {},
   "outputs": [
    {
     "data": {
      "text/plain": [
       "ExImBank              625\n",
       "CDB                   219\n",
       "CDB, ExImBank           8\n",
       "CDB, ICBC               2\n",
       "CDB, others             1\n",
       "CDB, Citic              1\n",
       "BOC, CDB, ExImBank      1\n",
       "Name: LENDER, dtype: int64"
      ]
     },
     "execution_count": 29,
     "metadata": {},
     "output_type": "execute_result"
    }
   ],
   "source": [
    "#Count the number of observations in each unique value of the column 'LENDER' \n",
    "china_data['LENDER'].value_counts()"
   ]
  },
  {
   "cell_type": "markdown",
   "metadata": {},
   "source": [
    "* There are seven distinct values, as we have seen.\n",
    "* We can observe that \"CDB\" and \"ExImBank\" are the first and second unique values, respectively.\n",
    "* The third unique number, \"CDB, ExImBank,\" which combines the first two unique values, denotes that CDB and ExImBank have partnered to make a loan.\n",
    "* The same situation is continuing.\n",
    "* Make lists in the \"LENDER\" columns so that MultiLabelBinarizer can be applied to them."
   ]
  },
  {
   "cell_type": "code",
   "execution_count": 30,
   "metadata": {},
   "outputs": [
    {
     "data": {
      "text/plain": [
       "['CDB', 'ExImBank', 'BOC', 'ICBC', 'others', 'Citic']"
      ]
     },
     "execution_count": 30,
     "metadata": {},
     "output_type": "execute_result"
    }
   ],
   "source": [
    "#Correcting the variable's names\n",
    "x = []\n",
    "for i in china_data['LENDER'].unique():\n",
    "    x+=[j for j in i.split(', ')  if j not in x]\n",
    "    \n",
    "x"
   ]
  },
  {
   "cell_type": "code",
   "execution_count": 31,
   "metadata": {},
   "outputs": [],
   "source": [
    "china_data[x] = 0"
   ]
  },
  {
   "cell_type": "code",
   "execution_count": 32,
   "metadata": {},
   "outputs": [
    {
     "data": {
      "text/html": [
       "<div>\n",
       "<style scoped>\n",
       "    .dataframe tbody tr th:only-of-type {\n",
       "        vertical-align: middle;\n",
       "    }\n",
       "\n",
       "    .dataframe tbody tr th {\n",
       "        vertical-align: top;\n",
       "    }\n",
       "\n",
       "    .dataframe thead th {\n",
       "        text-align: right;\n",
       "    }\n",
       "</style>\n",
       "<table border=\"1\" class=\"dataframe\">\n",
       "  <thead>\n",
       "    <tr style=\"text-align: right;\">\n",
       "      <th></th>\n",
       "      <th>YEAR</th>\n",
       "      <th>AMOUNT</th>\n",
       "      <th>LENDER</th>\n",
       "      <th>BORROWER</th>\n",
       "      <th>SECTOR</th>\n",
       "      <th>SENSITIVE TERRITORY OVERLAP</th>\n",
       "      <th>Country</th>\n",
       "      <th>CDB</th>\n",
       "      <th>ExImBank</th>\n",
       "      <th>BOC</th>\n",
       "      <th>ICBC</th>\n",
       "      <th>others</th>\n",
       "      <th>Citic</th>\n",
       "    </tr>\n",
       "  </thead>\n",
       "  <tbody>\n",
       "    <tr>\n",
       "      <th>0</th>\n",
       "      <td>2011</td>\n",
       "      <td>5.000000e+07</td>\n",
       "      <td>CDB</td>\n",
       "      <td>Government</td>\n",
       "      <td>Transport</td>\n",
       "      <td>None Known</td>\n",
       "      <td>Angola</td>\n",
       "      <td>1</td>\n",
       "      <td>0</td>\n",
       "      <td>0</td>\n",
       "      <td>0</td>\n",
       "      <td>0</td>\n",
       "      <td>0</td>\n",
       "    </tr>\n",
       "    <tr>\n",
       "      <th>1</th>\n",
       "      <td>2009</td>\n",
       "      <td>7.000000e+09</td>\n",
       "      <td>CDB</td>\n",
       "      <td>Petrobras</td>\n",
       "      <td>Extraction and Pipelines</td>\n",
       "      <td>None Known</td>\n",
       "      <td>Brazil</td>\n",
       "      <td>1</td>\n",
       "      <td>0</td>\n",
       "      <td>0</td>\n",
       "      <td>0</td>\n",
       "      <td>0</td>\n",
       "      <td>0</td>\n",
       "    </tr>\n",
       "  </tbody>\n",
       "</table>\n",
       "</div>"
      ],
      "text/plain": [
       "   YEAR        AMOUNT LENDER    BORROWER                    SECTOR  \\\n",
       "0  2011  5.000000e+07    CDB  Government                 Transport   \n",
       "1  2009  7.000000e+09    CDB   Petrobras  Extraction and Pipelines   \n",
       "\n",
       "  SENSITIVE TERRITORY OVERLAP Country  CDB  ExImBank  BOC  ICBC  others  Citic  \n",
       "0                  None Known  Angola    1         0    0     0       0      0  \n",
       "1                  None Known  Brazil    1         0    0     0       0      0  "
      ]
     },
     "execution_count": 32,
     "metadata": {},
     "output_type": "execute_result"
    }
   ],
   "source": [
    "for i,j in enumerate(china_data['LENDER']):\n",
    "    for g in j.split(', '):\n",
    "        china_data[g][i] = 1\n",
    "        \n",
    "china_data.head(2)"
   ]
  },
  {
   "cell_type": "code",
   "execution_count": 34,
   "metadata": {},
   "outputs": [
    {
     "data": {
      "text/plain": [
       "CDB         232\n",
       "ExImBank    634\n",
       "BOC           1\n",
       "ICBC          2\n",
       "others        1\n",
       "Citic         1\n",
       "dtype: int64"
      ]
     },
     "execution_count": 34,
     "metadata": {},
     "output_type": "execute_result"
    }
   ],
   "source": [
    "z = china_data[['CDB','ExImBank','BOC','ICBC','others','Citic']].sum()\n",
    "z"
   ]
  },
  {
   "cell_type": "markdown",
   "metadata": {},
   "source": [
    "* Our next step is to change the 'SENSITIVE TERRITORY OVERLAP' column.\n",
    "* For that we need to check the unique values and value counts."
   ]
  },
  {
   "cell_type": "code",
   "execution_count": 35,
   "metadata": {},
   "outputs": [
    {
     "data": {
      "text/plain": [
       "array(['None Known',\n",
       "       \"Within Indigenous Peoples' Lands\\n Within Critical Habitats\",\n",
       "       \"Within Indigenous Peoples' Lands\",\n",
       "       \"Within Indigenous Peoples' Lands\\n Within National Protected Areas\",\n",
       "       'Within Critical Habitats\\n Within National Protected Areas',\n",
       "       'Within Critical Habitats',\n",
       "       \"Within Indigenous Peoples' Lands\\n Within Critical Habitats\\n Within National Protected Areas\",\n",
       "       'Within National Protected Areas'], dtype=object)"
      ]
     },
     "execution_count": 35,
     "metadata": {},
     "output_type": "execute_result"
    }
   ],
   "source": [
    "#Displaying the unique variables of the column 'SENSITIVE TERRITORY OVERLAP'\n",
    "china_data['SENSITIVE TERRITORY OVERLAP'].unique()"
   ]
  },
  {
   "cell_type": "code",
   "execution_count": 36,
   "metadata": {},
   "outputs": [
    {
     "data": {
      "text/plain": [
       "None Known                                                                                       524\n",
       "Within Critical Habitats                                                                         124\n",
       "Within Critical Habitats\\n Within National Protected Areas                                        57\n",
       "Within Indigenous Peoples' Lands\\n Within Critical Habitats                                       45\n",
       "Within Indigenous Peoples' Lands                                                                  41\n",
       "Within Indigenous Peoples' Lands\\n Within Critical Habitats\\n Within National Protected Areas     34\n",
       "Within National Protected Areas                                                                   19\n",
       "Within Indigenous Peoples' Lands\\n Within National Protected Areas                                13\n",
       "Name: SENSITIVE TERRITORY OVERLAP, dtype: int64"
      ]
     },
     "execution_count": 36,
     "metadata": {},
     "output_type": "execute_result"
    }
   ],
   "source": [
    "#Count the number of observations in each unique value of the column 'SENSITIVE TERRITORY OVERLAP' \n",
    "china_data['SENSITIVE TERRITORY OVERLAP'].value_counts()"
   ]
  },
  {
   "cell_type": "markdown",
   "metadata": {},
   "source": [
    "* Looking at the unique values, there are 8 unique values.\n",
    "* But the 8 values are just combination of 4 values which are none, critical, indegenous and protected.\n",
    "* There is significant overlapping of values.\n",
    "* So we can create 3 new columns for these 3 unique values, so when the value is \"Within Indigenous Peoples' Lands\\n Within Critical Habitats\\n Within National Protected Areas\" there will be 1 in 3 columns expect ST_None."
   ]
  },
  {
   "cell_type": "code",
   "execution_count": 37,
   "metadata": {},
   "outputs": [
    {
     "data": {
      "text/plain": [
       "['None Known',\n",
       " \"Within Indigenous Peoples' Lands\",\n",
       " 'Within Critical Habitats',\n",
       " 'Within National Protected Areas']"
      ]
     },
     "execution_count": 37,
     "metadata": {},
     "output_type": "execute_result"
    }
   ],
   "source": [
    "l = []\n",
    "for i in china_data['SENSITIVE TERRITORY OVERLAP'].unique():\n",
    "    l+=[j for j in i.split('\\n ')  if j not in l]\n",
    "    \n",
    "l"
   ]
  },
  {
   "cell_type": "code",
   "execution_count": 38,
   "metadata": {},
   "outputs": [],
   "source": [
    "china_data[['STO_Indigenous','STO_Critical','STO_Protected']] = 0"
   ]
  },
  {
   "cell_type": "code",
   "execution_count": 39,
   "metadata": {},
   "outputs": [],
   "source": [
    "for i,j in enumerate(china_data['SENSITIVE TERRITORY OVERLAP']):\n",
    "    for g in j.split('\\n '):\n",
    "        if  \"Within Indigenous Peoples' Lands\" in g:\n",
    "            china_data['STO_Indigenous'][i] = 1 \n",
    "            \n",
    "        if  'Within Critical Habitats' in g:\n",
    "            china_data['STO_Critical'][i] = 1 \n",
    "            \n",
    "        if  'Within National Protected Areas'  in g:\n",
    "            china_data['STO_Protected'][i] = 1  "
   ]
  },
  {
   "cell_type": "markdown",
   "metadata": {},
   "source": [
    "* When the value in 'Territory_overlap' column was 'Within Indigenous Peoples' Lands\\n Within Critical Habitats\\n Within National Protected Areas' then there should be 1 in 'ST_Critical', 'ST_Indegenous', and 'ST_National' columns for that particular row.\n",
    "* This completes our preprocessing.\n",
    "* Next we have to do visualisations and draw inferences from our data."
   ]
  },
  {
   "cell_type": "markdown",
   "metadata": {},
   "source": [
    "# Visualization and Inferences"
   ]
  },
  {
   "cell_type": "markdown",
   "metadata": {},
   "source": [
    "* First, let us plot a histogram for the amount of loans taken. This will give us an idea for what amount of loans were taken the highest.\n",
    "* We can plot histogram using seaborn library."
   ]
  },
  {
   "cell_type": "code",
   "execution_count": 41,
   "metadata": {},
   "outputs": [
    {
     "data": {
      "text/plain": [
       "<AxesSubplot:xlabel='AMOUNT', ylabel='Count'>"
      ]
     },
     "execution_count": 41,
     "metadata": {},
     "output_type": "execute_result"
    },
    {
     "data": {
      "image/png": "[encoded data removed]",
      "text/plain": [
       "<Figure size 1152x576 with 1 Axes>"
      ]
     },
     "metadata": {
      "needs_background": "light"
     },
     "output_type": "display_data"
    }
   ],
   "source": [
    "plt.figure(figsize = (16,8))\n",
    "sns.histplot(data = china_data, x = 'AMOUNT', bins = 100, color = 'Green')"
   ]
  },
  {
   "cell_type": "markdown",
   "metadata": {},
   "source": [
    "* We see most of the values are in the range of 0 Millions to 2000 Millions.\n",
    "* From the above histogram we can say that the most number of loans were given for amounts upto 200 Millions.\n",
    "* Now let us visualize how many loans were taken in which year. For this we can use countplot from the seaborn library.\n",
    "* Next, let us see how much amount of loans were taken in any year."
   ]
  },
  {
   "cell_type": "code",
   "execution_count": 47,
   "metadata": {},
   "outputs": [
    {
     "data": {
      "image/png": "[encoded data removed]",
      "text/plain": [
       "<Figure size 1080x432 with 1 Axes>"
      ]
     },
     "metadata": {
      "needs_background": "light"
     },
     "output_type": "display_data"
    }
   ],
   "source": [
    "#Display the above in the form of a bar chart\n",
    "plt.figure(figsize=(15,6))\n",
    "sns.countplot('YEAR', data = china_data, palette='hls')\n",
    "plt.xticks(rotation = 90)\n",
    "plt.show()"
   ]
  },
  {
   "cell_type": "markdown",
   "metadata": {},
   "source": [
    "* As we can see the most number of loans were taken in 2016 and the least number of loans were taken in 2019.\n",
    "* We can calculate loans given out per year by using groupby and taking sum as the aggregate function."
   ]
  },
  {
   "cell_type": "code",
   "execution_count": 48,
   "metadata": {},
   "outputs": [
    {
     "data": {
      "text/html": [
       "<div>\n",
       "<style scoped>\n",
       "    .dataframe tbody tr th:only-of-type {\n",
       "        vertical-align: middle;\n",
       "    }\n",
       "\n",
       "    .dataframe tbody tr th {\n",
       "        vertical-align: top;\n",
       "    }\n",
       "\n",
       "    .dataframe thead th {\n",
       "        text-align: right;\n",
       "    }\n",
       "</style>\n",
       "<table border=\"1\" class=\"dataframe\">\n",
       "  <thead>\n",
       "    <tr style=\"text-align: right;\">\n",
       "      <th></th>\n",
       "      <th>AMOUNT</th>\n",
       "    </tr>\n",
       "    <tr>\n",
       "      <th>YEAR</th>\n",
       "      <th></th>\n",
       "    </tr>\n",
       "  </thead>\n",
       "  <tbody>\n",
       "    <tr>\n",
       "      <th>2008</th>\n",
       "      <td>7.565000e+09</td>\n",
       "    </tr>\n",
       "    <tr>\n",
       "      <th>2009</th>\n",
       "      <td>6.240000e+10</td>\n",
       "    </tr>\n",
       "    <tr>\n",
       "      <th>2010</th>\n",
       "      <td>4.123500e+10</td>\n",
       "    </tr>\n",
       "    <tr>\n",
       "      <th>2011</th>\n",
       "      <td>3.394900e+10</td>\n",
       "    </tr>\n",
       "    <tr>\n",
       "      <th>2012</th>\n",
       "      <td>3.488600e+10</td>\n",
       "    </tr>\n",
       "    <tr>\n",
       "      <th>2013</th>\n",
       "      <td>4.185200e+10</td>\n",
       "    </tr>\n",
       "    <tr>\n",
       "      <th>2014</th>\n",
       "      <td>4.839100e+10</td>\n",
       "    </tr>\n",
       "    <tr>\n",
       "      <th>2015</th>\n",
       "      <td>5.110400e+10</td>\n",
       "    </tr>\n",
       "    <tr>\n",
       "      <th>2016</th>\n",
       "      <td>7.500100e+10</td>\n",
       "    </tr>\n",
       "    <tr>\n",
       "      <th>2017</th>\n",
       "      <td>4.924100e+10</td>\n",
       "    </tr>\n",
       "    <tr>\n",
       "      <th>2018</th>\n",
       "      <td>1.258300e+10</td>\n",
       "    </tr>\n",
       "    <tr>\n",
       "      <th>2019</th>\n",
       "      <td>3.940000e+09</td>\n",
       "    </tr>\n",
       "  </tbody>\n",
       "</table>\n",
       "</div>"
      ],
      "text/plain": [
       "            AMOUNT\n",
       "YEAR              \n",
       "2008  7.565000e+09\n",
       "2009  6.240000e+10\n",
       "2010  4.123500e+10\n",
       "2011  3.394900e+10\n",
       "2012  3.488600e+10\n",
       "2013  4.185200e+10\n",
       "2014  4.839100e+10\n",
       "2015  5.110400e+10\n",
       "2016  7.500100e+10\n",
       "2017  4.924100e+10\n",
       "2018  1.258300e+10\n",
       "2019  3.940000e+09"
      ]
     },
     "execution_count": 48,
     "metadata": {},
     "output_type": "execute_result"
    }
   ],
   "source": [
    "loan_per_year = china_data[[\"YEAR\", \"AMOUNT\"]].groupby(\"YEAR\").sum()\n",
    "loan_per_year"
   ]
  },
  {
   "cell_type": "markdown",
   "metadata": {},
   "source": [
    "* We can plot the data in loan_per_year dataset which we have created simply using .plot method taking the amount on the Y-Axis and sum on the corresponding year on the X-Axis."
   ]
  },
  {
   "cell_type": "code",
   "execution_count": 49,
   "metadata": {},
   "outputs": [
    {
     "data": {
      "text/plain": [
       "<AxesSubplot:xlabel='YEAR'>"
      ]
     },
     "execution_count": 49,
     "metadata": {},
     "output_type": "execute_result"
    },
    {
     "data": {
      "image/png": "[encoded data removed]",
      "text/plain": [
       "<Figure size 1152x576 with 1 Axes>"
      ]
     },
     "metadata": {
      "needs_background": "light"
     },
     "output_type": "display_data"
    }
   ],
   "source": [
    "loan_per_year.plot(kind = 'bar', color = 'Green',figsize = (16,8))"
   ]
  },
  {
   "cell_type": "markdown",
   "metadata": {},
   "source": [
    "* The overall number of loans granted in 2016 topped 70 billion, which was the biggest sum ever.\n",
    "* According to the graph we displayed above, only about 70 loans were made in 2009, yet the total amount of loans made topped 60 billion dollars.\n",
    "* Let's do visualisations and draw conclusions for nations now that the visualisations for a year are complete.\n",
    "* We must utilise groupby and group with regard to nations for that. Let's create two aggregate functions, one for the total amount of loans and one for the total number of loans."
   ]
  },
  {
   "cell_type": "code",
   "execution_count": 50,
   "metadata": {},
   "outputs": [
    {
     "data": {
      "text/html": [
       "<div>\n",
       "<style scoped>\n",
       "    .dataframe tbody tr th:only-of-type {\n",
       "        vertical-align: middle;\n",
       "    }\n",
       "\n",
       "    .dataframe tbody tr th {\n",
       "        vertical-align: top;\n",
       "    }\n",
       "\n",
       "    .dataframe thead th {\n",
       "        text-align: right;\n",
       "    }\n",
       "</style>\n",
       "<table border=\"1\" class=\"dataframe\">\n",
       "  <thead>\n",
       "    <tr style=\"text-align: right;\">\n",
       "      <th></th>\n",
       "      <th>AMOUNT</th>\n",
       "      <th>Country</th>\n",
       "    </tr>\n",
       "    <tr>\n",
       "      <th>Country</th>\n",
       "      <th></th>\n",
       "      <th></th>\n",
       "    </tr>\n",
       "  </thead>\n",
       "  <tbody>\n",
       "    <tr>\n",
       "      <th>Angola</th>\n",
       "      <td>2.964000e+10</td>\n",
       "      <td>115</td>\n",
       "    </tr>\n",
       "    <tr>\n",
       "      <th>Antigua &amp; Barbuda</th>\n",
       "      <td>1.280000e+08</td>\n",
       "      <td>2</td>\n",
       "    </tr>\n",
       "    <tr>\n",
       "      <th>Argentina</th>\n",
       "      <td>1.708300e+10</td>\n",
       "      <td>11</td>\n",
       "    </tr>\n",
       "    <tr>\n",
       "      <th>Bahamas</th>\n",
       "      <td>9.900000e+07</td>\n",
       "      <td>2</td>\n",
       "    </tr>\n",
       "    <tr>\n",
       "      <th>Bangladesh</th>\n",
       "      <td>1.108900e+10</td>\n",
       "      <td>17</td>\n",
       "    </tr>\n",
       "  </tbody>\n",
       "</table>\n",
       "</div>"
      ],
      "text/plain": [
       "                         AMOUNT  Country\n",
       "Country                                 \n",
       "Angola             2.964000e+10      115\n",
       "Antigua & Barbuda  1.280000e+08        2\n",
       "Argentina          1.708300e+10       11\n",
       "Bahamas            9.900000e+07        2\n",
       "Bangladesh         1.108900e+10       17"
      ]
     },
     "execution_count": 50,
     "metadata": {},
     "output_type": "execute_result"
    }
   ],
   "source": [
    "loan_country = china_data[['Country','AMOUNT']].groupby('Country').agg({'AMOUNT':'sum', 'Country':'count'})\n",
    "loan_country.head()"
   ]
  },
  {
   "cell_type": "markdown",
   "metadata": {},
   "source": [
    "* There are two columns with the term \"Country,\" one of which is the index column and the other of which is the total number of loans taken.\n",
    "* Let's give the column for counts a new name."
   ]
  },
  {
   "cell_type": "code",
   "execution_count": 51,
   "metadata": {},
   "outputs": [
    {
     "data": {
      "text/html": [
       "<div>\n",
       "<style scoped>\n",
       "    .dataframe tbody tr th:only-of-type {\n",
       "        vertical-align: middle;\n",
       "    }\n",
       "\n",
       "    .dataframe tbody tr th {\n",
       "        vertical-align: top;\n",
       "    }\n",
       "\n",
       "    .dataframe thead th {\n",
       "        text-align: right;\n",
       "    }\n",
       "</style>\n",
       "<table border=\"1\" class=\"dataframe\">\n",
       "  <thead>\n",
       "    <tr style=\"text-align: right;\">\n",
       "      <th></th>\n",
       "      <th>AMOUNT</th>\n",
       "      <th>Count</th>\n",
       "    </tr>\n",
       "    <tr>\n",
       "      <th>Country</th>\n",
       "      <th></th>\n",
       "      <th></th>\n",
       "    </tr>\n",
       "  </thead>\n",
       "  <tbody>\n",
       "    <tr>\n",
       "      <th>Angola</th>\n",
       "      <td>2.964000e+10</td>\n",
       "      <td>115</td>\n",
       "    </tr>\n",
       "    <tr>\n",
       "      <th>Ethiopia</th>\n",
       "      <td>8.291000e+09</td>\n",
       "      <td>34</td>\n",
       "    </tr>\n",
       "    <tr>\n",
       "      <th>Cambodia</th>\n",
       "      <td>5.008000e+09</td>\n",
       "      <td>31</td>\n",
       "    </tr>\n",
       "    <tr>\n",
       "      <th>Sri Lanka</th>\n",
       "      <td>8.709000e+09</td>\n",
       "      <td>30</td>\n",
       "    </tr>\n",
       "    <tr>\n",
       "      <th>Indonesia</th>\n",
       "      <td>1.449900e+10</td>\n",
       "      <td>30</td>\n",
       "    </tr>\n",
       "  </tbody>\n",
       "</table>\n",
       "</div>"
      ],
      "text/plain": [
       "                 AMOUNT  Count\n",
       "Country                       \n",
       "Angola     2.964000e+10    115\n",
       "Ethiopia   8.291000e+09     34\n",
       "Cambodia   5.008000e+09     31\n",
       "Sri Lanka  8.709000e+09     30\n",
       "Indonesia  1.449900e+10     30"
      ]
     },
     "execution_count": 51,
     "metadata": {},
     "output_type": "execute_result"
    }
   ],
   "source": [
    "loan_country.rename(columns = {'Country': 'Count'}, inplace = True)\n",
    "loan_country.sort_values('Count', ascending = False).head(5)"
   ]
  },
  {
   "cell_type": "markdown",
   "metadata": {},
   "source": [
    "* When we sort the values in loan_country dataset according to the count, we can see that Angola has taken the highest number of loans which is 115, followed by Ethiopia which has taken 34."
   ]
  },
  {
   "cell_type": "code",
   "execution_count": 52,
   "metadata": {},
   "outputs": [
    {
     "data": {
      "text/html": [
       "<div>\n",
       "<style scoped>\n",
       "    .dataframe tbody tr th:only-of-type {\n",
       "        vertical-align: middle;\n",
       "    }\n",
       "\n",
       "    .dataframe tbody tr th {\n",
       "        vertical-align: top;\n",
       "    }\n",
       "\n",
       "    .dataframe thead th {\n",
       "        text-align: right;\n",
       "    }\n",
       "</style>\n",
       "<table border=\"1\" class=\"dataframe\">\n",
       "  <thead>\n",
       "    <tr style=\"text-align: right;\">\n",
       "      <th></th>\n",
       "      <th>AMOUNT</th>\n",
       "      <th>Count</th>\n",
       "    </tr>\n",
       "    <tr>\n",
       "      <th>Country</th>\n",
       "      <th></th>\n",
       "      <th></th>\n",
       "    </tr>\n",
       "  </thead>\n",
       "  <tbody>\n",
       "    <tr>\n",
       "      <th>Venezuela</th>\n",
       "      <td>5.769100e+10</td>\n",
       "      <td>16</td>\n",
       "    </tr>\n",
       "    <tr>\n",
       "      <th>Pakistan</th>\n",
       "      <td>3.985300e+10</td>\n",
       "      <td>23</td>\n",
       "    </tr>\n",
       "    <tr>\n",
       "      <th>Russian Federation</th>\n",
       "      <td>3.704500e+10</td>\n",
       "      <td>8</td>\n",
       "    </tr>\n",
       "    <tr>\n",
       "      <th>Angola</th>\n",
       "      <td>2.964000e+10</td>\n",
       "      <td>115</td>\n",
       "    </tr>\n",
       "    <tr>\n",
       "      <th>Brazil</th>\n",
       "      <td>2.815600e+10</td>\n",
       "      <td>10</td>\n",
       "    </tr>\n",
       "  </tbody>\n",
       "</table>\n",
       "</div>"
      ],
      "text/plain": [
       "                          AMOUNT  Count\n",
       "Country                                \n",
       "Venezuela           5.769100e+10     16\n",
       "Pakistan            3.985300e+10     23\n",
       "Russian Federation  3.704500e+10      8\n",
       "Angola              2.964000e+10    115\n",
       "Brazil              2.815600e+10     10"
      ]
     },
     "execution_count": 52,
     "metadata": {},
     "output_type": "execute_result"
    }
   ],
   "source": [
    "loan_country.sort_values('AMOUNT', ascending = False).head(5)"
   ]
  },
  {
   "cell_type": "markdown",
   "metadata": {},
   "source": [
    "* When the variables in the loan country dataset are sorted by the amount of loans taken, Venezuela comes out on top since it has borrowed the most money from China, totaling 57 billion dollars.\n",
    "* When values are sorted by the amount of loans taken, Angola has taken the most loans—115—but the total amount of those loans—29 billion dollars—places them fourth overall.\n",
    "* Let's draw graphs for the number of loans and the total amount borrowed."
   ]
  },
  {
   "cell_type": "code",
   "execution_count": 53,
   "metadata": {},
   "outputs": [
    {
     "data": {
      "image/png": "[encoded data removed]",
      "text/plain": [
       "<Figure size 1440x576 with 1 Axes>"
      ]
     },
     "metadata": {
      "needs_background": "light"
     },
     "output_type": "display_data"
    }
   ],
   "source": [
    "#Display the above in the form of a bar chart\n",
    "plt.figure(figsize=(20,8))\n",
    "sns.countplot('Country', data = china_data, palette='hls')\n",
    "plt.xticks(rotation = 90)\n",
    "plt.show()"
   ]
  },
  {
   "cell_type": "markdown",
   "metadata": {},
   "source": [
    "* With the.countplot function, we created a horzintal bar graph.\n",
    "* We sorted the numbers according to the total count of loans taken before producing the graph.\n",
    "* We may infer from the graph that Angola has borrowed the most number of loans."
   ]
  },
  {
   "cell_type": "code",
   "execution_count": 54,
   "metadata": {},
   "outputs": [
    {
     "data": {
      "text/plain": [
       "<AxesSubplot:ylabel='Country'>"
      ]
     },
     "execution_count": 54,
     "metadata": {},
     "output_type": "execute_result"
    },
    {
     "data": {
      "image/png": "[encoded data removed]",
      "text/plain": [
       "<Figure size 1152x1728 with 1 Axes>"
      ]
     },
     "metadata": {
      "needs_background": "light"
     },
     "output_type": "display_data"
    }
   ],
   "source": [
    "loan_country.sort_values('AMOUNT', ascending = True).plot(y = 'AMOUNT', kind = 'barh', figsize = (16,24), color = 'Green')"
   ]
  },
  {
   "cell_type": "markdown",
   "metadata": {},
   "source": [
    "* We plotted a horzintal bar graph using the .plot function.\n",
    "* Before plotting the graph we sorted the values according to the sum of amount of loans taken.\n",
    "* From the graph we can conclude that Venezuela has taken the highest sum of loans, followed by Pakistan, Russian Federation, Angola and Brazil in that order."
   ]
  },
  {
   "cell_type": "code",
   "execution_count": 55,
   "metadata": {},
   "outputs": [
    {
     "data": {
      "text/plain": [
       "<AxesSubplot:>"
      ]
     },
     "execution_count": 55,
     "metadata": {},
     "output_type": "execute_result"
    },
    {
     "data": {
      "image/png": "[encoded data removed]",
      "text/plain": [
       "<Figure size 432x288 with 1 Axes>"
      ]
     },
     "metadata": {
      "needs_background": "light"
     },
     "output_type": "display_data"
    }
   ],
   "source": [
    "sns.barplot(x = z.index, y = z.values)"
   ]
  },
  {
   "cell_type": "markdown",
   "metadata": {},
   "source": [
    "The 'LENDER' column after splitting has been plotted and we can see that ExImBank has given maximum number of loans."
   ]
  },
  {
   "cell_type": "code",
   "execution_count": 56,
   "metadata": {},
   "outputs": [
    {
     "data": {
      "image/png": "[encoded data removed]",
      "text/plain": [
       "<Figure size 1080x360 with 2 Axes>"
      ]
     },
     "metadata": {
      "needs_background": "light"
     },
     "output_type": "display_data"
    }
   ],
   "source": [
    "plt.figure(figsize=(15,5))\n",
    "\n",
    "plt.subplot(1,2,1)\n",
    "sns.barplot(x = ['STO_Indigenous','STO_Critical','STO_Protected'] ,y =china_data[['STO_Indigenous','STO_Critical','STO_Protected']].sum())\n",
    "\n",
    "plt.subplot(1,2,2)\n",
    "sns.countplot(x = 'SENSITIVE TERRITORY OVERLAP',data = china_data)\n",
    "plt.xticks(rotation = 90)\n",
    "\n",
    "plt.show()"
   ]
  },
  {
   "cell_type": "markdown",
   "metadata": {},
   "source": [
    "* When we display the graph for quantities, we can see that the transportation industry has borrowed the most money throughout the years, followed by the pipeline and extraction industries and the power sector.\n",
    "* When we look at the total amount borrowed, we can see that the power industry ranks third despite having taken the third most loans.\n",
    "* While the extraction and pipelines industry has taken on less loans, the total amount borrowed is still substantial.\n",
    "* The number of loans taken out by the telecom industry is high, but the total amount borrowed over time is modest."
   ]
  },
  {
   "cell_type": "code",
   "execution_count": 58,
   "metadata": {},
   "outputs": [
    {
     "data": {
      "image/png": "[encoded data removed]",
      "text/plain": [
       "<Figure size 576x576 with 1 Axes>"
      ]
     },
     "metadata": {},
     "output_type": "display_data"
    }
   ],
   "source": [
    "a = china_data['SECTOR'].value_counts()\n",
    "plt.figure(figsize = (8,8))\n",
    "plt.pie(x = a, data = china_data, labels= a.index,autopct='%.0f%%')\n",
    "plt.show()"
   ]
  },
  {
   "cell_type": "markdown",
   "metadata": {},
   "source": [
    "* We can see from the pie graphic that the transportation industry received the most loans, accounting for 37% of all loans.\n",
    "* The electricity industry and the government sector come in second and third, respectively, with major contributions of 24% and 16%.\n",
    "* Compared to the top 3, less loans have been taken out by other industries."
   ]
  },
  {
   "cell_type": "code",
   "execution_count": 59,
   "metadata": {},
   "outputs": [
    {
     "data": {
      "text/html": [
       "<div>\n",
       "<style scoped>\n",
       "    .dataframe tbody tr th:only-of-type {\n",
       "        vertical-align: middle;\n",
       "    }\n",
       "\n",
       "    .dataframe tbody tr th {\n",
       "        vertical-align: top;\n",
       "    }\n",
       "\n",
       "    .dataframe thead th {\n",
       "        text-align: right;\n",
       "    }\n",
       "</style>\n",
       "<table border=\"1\" class=\"dataframe\">\n",
       "  <thead>\n",
       "    <tr style=\"text-align: right;\">\n",
       "      <th></th>\n",
       "      <th>AMOUNT</th>\n",
       "      <th>SECTOR</th>\n",
       "    </tr>\n",
       "    <tr>\n",
       "      <th>SECTOR</th>\n",
       "      <th></th>\n",
       "      <th></th>\n",
       "    </tr>\n",
       "  </thead>\n",
       "  <tbody>\n",
       "    <tr>\n",
       "      <th>Agricultiure and Food</th>\n",
       "      <td>7.526000e+09</td>\n",
       "      <td>27</td>\n",
       "    </tr>\n",
       "    <tr>\n",
       "      <th>Extraction and Pipelines</th>\n",
       "      <td>1.141870e+11</td>\n",
       "      <td>38</td>\n",
       "    </tr>\n",
       "    <tr>\n",
       "      <th>Government</th>\n",
       "      <td>2.312000e+10</td>\n",
       "      <td>138</td>\n",
       "    </tr>\n",
       "    <tr>\n",
       "      <th>Manufacturing</th>\n",
       "      <td>8.747000e+09</td>\n",
       "      <td>12</td>\n",
       "    </tr>\n",
       "    <tr>\n",
       "      <th>Mulit-sector and discretionary</th>\n",
       "      <td>5.915600e+10</td>\n",
       "      <td>30</td>\n",
       "    </tr>\n",
       "    <tr>\n",
       "      <th>Other construction</th>\n",
       "      <td>2.261300e+10</td>\n",
       "      <td>29</td>\n",
       "    </tr>\n",
       "    <tr>\n",
       "      <th>Power</th>\n",
       "      <td>9.853400e+10</td>\n",
       "      <td>203</td>\n",
       "    </tr>\n",
       "    <tr>\n",
       "      <th>Telecom</th>\n",
       "      <td>8.061000e+09</td>\n",
       "      <td>63</td>\n",
       "    </tr>\n",
       "    <tr>\n",
       "      <th>Transport</th>\n",
       "      <td>1.202030e+11</td>\n",
       "      <td>317</td>\n",
       "    </tr>\n",
       "  </tbody>\n",
       "</table>\n",
       "</div>"
      ],
      "text/plain": [
       "                                      AMOUNT  SECTOR\n",
       "SECTOR                                              \n",
       "Agricultiure and Food           7.526000e+09      27\n",
       "Extraction and Pipelines        1.141870e+11      38\n",
       "Government                      2.312000e+10     138\n",
       "Manufacturing                   8.747000e+09      12\n",
       "Mulit-sector and discretionary  5.915600e+10      30\n",
       "Other construction              2.261300e+10      29\n",
       "Power                           9.853400e+10     203\n",
       "Telecom                         8.061000e+09      63\n",
       "Transport                       1.202030e+11     317"
      ]
     },
     "execution_count": 59,
     "metadata": {},
     "output_type": "execute_result"
    }
   ],
   "source": [
    "loan_per_sector = china_data[[\"SECTOR\", \"AMOUNT\"]].groupby(\"SECTOR\").agg({'AMOUNT':'sum', 'SECTOR':'count'})\n",
    "loan_per_sector"
   ]
  },
  {
   "cell_type": "markdown",
   "metadata": {},
   "source": [
    "* There are two columns titled \"country,\" one of which is the index column and the other, \"Sector,\" provides the total number of loans obtained.\n",
    "* Let's give the column for counts a new name."
   ]
  },
  {
   "cell_type": "code",
   "execution_count": 61,
   "metadata": {},
   "outputs": [
    {
     "data": {
      "text/html": [
       "<div>\n",
       "<style scoped>\n",
       "    .dataframe tbody tr th:only-of-type {\n",
       "        vertical-align: middle;\n",
       "    }\n",
       "\n",
       "    .dataframe tbody tr th {\n",
       "        vertical-align: top;\n",
       "    }\n",
       "\n",
       "    .dataframe thead th {\n",
       "        text-align: right;\n",
       "    }\n",
       "</style>\n",
       "<table border=\"1\" class=\"dataframe\">\n",
       "  <thead>\n",
       "    <tr style=\"text-align: right;\">\n",
       "      <th></th>\n",
       "      <th>AMOUNT</th>\n",
       "      <th>Count</th>\n",
       "    </tr>\n",
       "    <tr>\n",
       "      <th>SECTOR</th>\n",
       "      <th></th>\n",
       "      <th></th>\n",
       "    </tr>\n",
       "  </thead>\n",
       "  <tbody>\n",
       "    <tr>\n",
       "      <th>Transport</th>\n",
       "      <td>1.202030e+11</td>\n",
       "      <td>317</td>\n",
       "    </tr>\n",
       "    <tr>\n",
       "      <th>Power</th>\n",
       "      <td>9.853400e+10</td>\n",
       "      <td>203</td>\n",
       "    </tr>\n",
       "    <tr>\n",
       "      <th>Government</th>\n",
       "      <td>2.312000e+10</td>\n",
       "      <td>138</td>\n",
       "    </tr>\n",
       "    <tr>\n",
       "      <th>Telecom</th>\n",
       "      <td>8.061000e+09</td>\n",
       "      <td>63</td>\n",
       "    </tr>\n",
       "    <tr>\n",
       "      <th>Extraction and Pipelines</th>\n",
       "      <td>1.141870e+11</td>\n",
       "      <td>38</td>\n",
       "    </tr>\n",
       "    <tr>\n",
       "      <th>Mulit-sector and discretionary</th>\n",
       "      <td>5.915600e+10</td>\n",
       "      <td>30</td>\n",
       "    </tr>\n",
       "    <tr>\n",
       "      <th>Other construction</th>\n",
       "      <td>2.261300e+10</td>\n",
       "      <td>29</td>\n",
       "    </tr>\n",
       "    <tr>\n",
       "      <th>Agricultiure and Food</th>\n",
       "      <td>7.526000e+09</td>\n",
       "      <td>27</td>\n",
       "    </tr>\n",
       "    <tr>\n",
       "      <th>Manufacturing</th>\n",
       "      <td>8.747000e+09</td>\n",
       "      <td>12</td>\n",
       "    </tr>\n",
       "  </tbody>\n",
       "</table>\n",
       "</div>"
      ],
      "text/plain": [
       "                                      AMOUNT  Count\n",
       "SECTOR                                             \n",
       "Transport                       1.202030e+11    317\n",
       "Power                           9.853400e+10    203\n",
       "Government                      2.312000e+10    138\n",
       "Telecom                         8.061000e+09     63\n",
       "Extraction and Pipelines        1.141870e+11     38\n",
       "Mulit-sector and discretionary  5.915600e+10     30\n",
       "Other construction              2.261300e+10     29\n",
       "Agricultiure and Food           7.526000e+09     27\n",
       "Manufacturing                   8.747000e+09     12"
      ]
     },
     "execution_count": 61,
     "metadata": {},
     "output_type": "execute_result"
    }
   ],
   "source": [
    "loan_per_sector.rename(columns = {'SECTOR':'Count'}, inplace = True)\n",
    "loan_per_sector.sort_values('Count', ascending = False)"
   ]
  },
  {
   "cell_type": "markdown",
   "metadata": {},
   "source": [
    "* When we group variables according to count, we can see that the Transport Sector received 317 loans, which is the majority of all recipients.\n",
    "* The next two sectors with a significant loan volume are power and government.\n",
    "* According to the data, China grants less loans for the manufacturing sector."
   ]
  },
  {
   "cell_type": "code",
   "execution_count": 63,
   "metadata": {},
   "outputs": [
    {
     "data": {
      "text/html": [
       "<div>\n",
       "<style scoped>\n",
       "    .dataframe tbody tr th:only-of-type {\n",
       "        vertical-align: middle;\n",
       "    }\n",
       "\n",
       "    .dataframe tbody tr th {\n",
       "        vertical-align: top;\n",
       "    }\n",
       "\n",
       "    .dataframe thead th {\n",
       "        text-align: right;\n",
       "    }\n",
       "</style>\n",
       "<table border=\"1\" class=\"dataframe\">\n",
       "  <thead>\n",
       "    <tr style=\"text-align: right;\">\n",
       "      <th></th>\n",
       "      <th>AMOUNT</th>\n",
       "      <th>Count</th>\n",
       "    </tr>\n",
       "    <tr>\n",
       "      <th>SECTOR</th>\n",
       "      <th></th>\n",
       "      <th></th>\n",
       "    </tr>\n",
       "  </thead>\n",
       "  <tbody>\n",
       "    <tr>\n",
       "      <th>Transport</th>\n",
       "      <td>1.202030e+11</td>\n",
       "      <td>317</td>\n",
       "    </tr>\n",
       "    <tr>\n",
       "      <th>Extraction and Pipelines</th>\n",
       "      <td>1.141870e+11</td>\n",
       "      <td>38</td>\n",
       "    </tr>\n",
       "    <tr>\n",
       "      <th>Power</th>\n",
       "      <td>9.853400e+10</td>\n",
       "      <td>203</td>\n",
       "    </tr>\n",
       "    <tr>\n",
       "      <th>Mulit-sector and discretionary</th>\n",
       "      <td>5.915600e+10</td>\n",
       "      <td>30</td>\n",
       "    </tr>\n",
       "    <tr>\n",
       "      <th>Government</th>\n",
       "      <td>2.312000e+10</td>\n",
       "      <td>138</td>\n",
       "    </tr>\n",
       "    <tr>\n",
       "      <th>Other construction</th>\n",
       "      <td>2.261300e+10</td>\n",
       "      <td>29</td>\n",
       "    </tr>\n",
       "    <tr>\n",
       "      <th>Manufacturing</th>\n",
       "      <td>8.747000e+09</td>\n",
       "      <td>12</td>\n",
       "    </tr>\n",
       "    <tr>\n",
       "      <th>Telecom</th>\n",
       "      <td>8.061000e+09</td>\n",
       "      <td>63</td>\n",
       "    </tr>\n",
       "    <tr>\n",
       "      <th>Agricultiure and Food</th>\n",
       "      <td>7.526000e+09</td>\n",
       "      <td>27</td>\n",
       "    </tr>\n",
       "  </tbody>\n",
       "</table>\n",
       "</div>"
      ],
      "text/plain": [
       "                                      AMOUNT  Count\n",
       "SECTOR                                             \n",
       "Transport                       1.202030e+11    317\n",
       "Extraction and Pipelines        1.141870e+11     38\n",
       "Power                           9.853400e+10    203\n",
       "Mulit-sector and discretionary  5.915600e+10     30\n",
       "Government                      2.312000e+10    138\n",
       "Other construction              2.261300e+10     29\n",
       "Manufacturing                   8.747000e+09     12\n",
       "Telecom                         8.061000e+09     63\n",
       "Agricultiure and Food           7.526000e+09     27"
      ]
     },
     "execution_count": 63,
     "metadata": {},
     "output_type": "execute_result"
    }
   ],
   "source": [
    "loan_per_sector.sort_values('AMOUNT', ascending = False)"
   ]
  },
  {
   "cell_type": "markdown",
   "metadata": {},
   "source": [
    "* When we sort values according to the Amount we can see that Trasport sector has got the most amount of loans, which is fair because they also have the most number of loans.\n",
    "* Extraction and Pipelines sector has got the second highest sum of loans despite getting only 38 loans in number.\n",
    "* Let us visualise this data by plotting it."
   ]
  },
  {
   "cell_type": "code",
   "execution_count": 64,
   "metadata": {},
   "outputs": [
    {
     "data": {
      "text/plain": [
       "<AxesSubplot:xlabel='SECTOR'>"
      ]
     },
     "execution_count": 64,
     "metadata": {},
     "output_type": "execute_result"
    },
    {
     "data": {
      "image/png": "[encoded data removed]",
      "text/plain": [
       "<Figure size 1080x360 with 2 Axes>"
      ]
     },
     "metadata": {
      "needs_background": "light"
     },
     "output_type": "display_data"
    }
   ],
   "source": [
    "plt.figure(figsize=(15,5))\n",
    "\n",
    "plt.subplot(1,2,1)\n",
    "sns.countplot('SECTOR',data = china_data)\n",
    "plt.xticks(rotation = 90)\n",
    "\n",
    "plt.subplot(1,2,2)\n",
    "china_data.groupby('SECTOR')['AMOUNT'].sum().plot.bar()"
   ]
  },
  {
   "cell_type": "markdown",
   "metadata": {},
   "source": [
    "* By plotting graph for the data, we can visualize that Transport sector has taken high number of loans, followed by Power Sector.\n",
    "* Discretionary, construction, agriculture and manufacturing Sectors have taken less number of loans.\n",
    "* When we display the graph for quantities, we can see that the transportation industry has borrowed the most money throughout the years, followed by the pipeline and extraction industries and the power sector.\n",
    "* When we look at the total amount borrowed, we can see that the power industry ranks third despite having taken the third most loans.\n",
    "* While the extraction and pipelines industry has taken on less loans, the total amount borrowed is still substantial.\n",
    "* The quantity of loans taken out by the telecom industry is significant, but the total amount borrowed over time is modest.\n",
    "* The following concern is which nation has borrowed the most money for a specific industry.\n",
    "* Using groupby, we may discover that."
   ]
  },
  {
   "cell_type": "code",
   "execution_count": 65,
   "metadata": {},
   "outputs": [
    {
     "data": {
      "text/html": [
       "<div>\n",
       "<style scoped>\n",
       "    .dataframe tbody tr th:only-of-type {\n",
       "        vertical-align: middle;\n",
       "    }\n",
       "\n",
       "    .dataframe tbody tr th {\n",
       "        vertical-align: top;\n",
       "    }\n",
       "\n",
       "    .dataframe thead th {\n",
       "        text-align: right;\n",
       "    }\n",
       "</style>\n",
       "<table border=\"1\" class=\"dataframe\">\n",
       "  <thead>\n",
       "    <tr style=\"text-align: right;\">\n",
       "      <th></th>\n",
       "      <th></th>\n",
       "      <th>AMOUNT</th>\n",
       "    </tr>\n",
       "    <tr>\n",
       "      <th>Country</th>\n",
       "      <th>SECTOR</th>\n",
       "      <th></th>\n",
       "    </tr>\n",
       "  </thead>\n",
       "  <tbody>\n",
       "    <tr>\n",
       "      <th rowspan=\"5\" valign=\"top\">Angola</th>\n",
       "      <th>Agricultiure and Food</th>\n",
       "      <td>8.930000e+08</td>\n",
       "    </tr>\n",
       "    <tr>\n",
       "      <th>Extraction and Pipelines</th>\n",
       "      <td>1.750000e+10</td>\n",
       "    </tr>\n",
       "    <tr>\n",
       "      <th>Government</th>\n",
       "      <td>1.311000e+09</td>\n",
       "    </tr>\n",
       "    <tr>\n",
       "      <th>Manufacturing</th>\n",
       "      <td>8.300000e+07</td>\n",
       "    </tr>\n",
       "    <tr>\n",
       "      <th>Mulit-sector and discretionary</th>\n",
       "      <td>2.200000e+09</td>\n",
       "    </tr>\n",
       "    <tr>\n",
       "      <th>...</th>\n",
       "      <th>...</th>\n",
       "      <td>...</td>\n",
       "    </tr>\n",
       "    <tr>\n",
       "      <th>Zambia</th>\n",
       "      <th>Transport</th>\n",
       "      <td>2.476000e+09</td>\n",
       "    </tr>\n",
       "    <tr>\n",
       "      <th rowspan=\"4\" valign=\"top\">Zimbabwe</th>\n",
       "      <th>Government</th>\n",
       "      <td>3.410000e+08</td>\n",
       "    </tr>\n",
       "    <tr>\n",
       "      <th>Power</th>\n",
       "      <td>1.318000e+09</td>\n",
       "    </tr>\n",
       "    <tr>\n",
       "      <th>Telecom</th>\n",
       "      <td>4.370000e+08</td>\n",
       "    </tr>\n",
       "    <tr>\n",
       "      <th>Transport</th>\n",
       "      <td>3.160000e+08</td>\n",
       "    </tr>\n",
       "  </tbody>\n",
       "</table>\n",
       "<p>273 rows × 1 columns</p>\n",
       "</div>"
      ],
      "text/plain": [
       "                                               AMOUNT\n",
       "Country  SECTOR                                      \n",
       "Angola   Agricultiure and Food           8.930000e+08\n",
       "         Extraction and Pipelines        1.750000e+10\n",
       "         Government                      1.311000e+09\n",
       "         Manufacturing                   8.300000e+07\n",
       "         Mulit-sector and discretionary  2.200000e+09\n",
       "...                                               ...\n",
       "Zambia   Transport                       2.476000e+09\n",
       "Zimbabwe Government                      3.410000e+08\n",
       "         Power                           1.318000e+09\n",
       "         Telecom                         4.370000e+08\n",
       "         Transport                       3.160000e+08\n",
       "\n",
       "[273 rows x 1 columns]"
      ]
     },
     "execution_count": 65,
     "metadata": {},
     "output_type": "execute_result"
    }
   ],
   "source": [
    "loan_country_sector = china_data[['Country','SECTOR','AMOUNT']].groupby(['Country', 'SECTOR']).sum('AMOUNT')\n",
    "loan_country_sector"
   ]
  },
  {
   "cell_type": "code",
   "execution_count": 66,
   "metadata": {},
   "outputs": [
    {
     "data": {
      "text/html": [
       "<div>\n",
       "<style scoped>\n",
       "    .dataframe tbody tr th:only-of-type {\n",
       "        vertical-align: middle;\n",
       "    }\n",
       "\n",
       "    .dataframe tbody tr th {\n",
       "        vertical-align: top;\n",
       "    }\n",
       "\n",
       "    .dataframe thead th {\n",
       "        text-align: right;\n",
       "    }\n",
       "</style>\n",
       "<table border=\"1\" class=\"dataframe\">\n",
       "  <thead>\n",
       "    <tr style=\"text-align: right;\">\n",
       "      <th></th>\n",
       "      <th></th>\n",
       "      <th>AMOUNT</th>\n",
       "    </tr>\n",
       "    <tr>\n",
       "      <th>Country</th>\n",
       "      <th>SECTOR</th>\n",
       "      <th></th>\n",
       "    </tr>\n",
       "  </thead>\n",
       "  <tbody>\n",
       "    <tr>\n",
       "      <th>Venezuela</th>\n",
       "      <th>Mulit-sector and discretionary</th>\n",
       "      <td>4.050000e+10</td>\n",
       "    </tr>\n",
       "    <tr>\n",
       "      <th>Russian Federation</th>\n",
       "      <th>Extraction and Pipelines</th>\n",
       "      <td>2.750000e+10</td>\n",
       "    </tr>\n",
       "    <tr>\n",
       "      <th>Brazil</th>\n",
       "      <th>Extraction and Pipelines</th>\n",
       "      <td>2.500000e+10</td>\n",
       "    </tr>\n",
       "    <tr>\n",
       "      <th>Pakistan</th>\n",
       "      <th>Power</th>\n",
       "      <td>1.840600e+10</td>\n",
       "    </tr>\n",
       "    <tr>\n",
       "      <th>Angola</th>\n",
       "      <th>Extraction and Pipelines</th>\n",
       "      <td>1.750000e+10</td>\n",
       "    </tr>\n",
       "    <tr>\n",
       "      <th>Pakistan</th>\n",
       "      <th>Transport</th>\n",
       "      <td>1.680300e+10</td>\n",
       "    </tr>\n",
       "    <tr>\n",
       "      <th>Venezuela</th>\n",
       "      <th>Extraction and Pipelines</th>\n",
       "      <td>1.520000e+10</td>\n",
       "    </tr>\n",
       "    <tr>\n",
       "      <th>Iran</th>\n",
       "      <th>Other construction</th>\n",
       "      <td>1.500000e+10</td>\n",
       "    </tr>\n",
       "    <tr>\n",
       "      <th>Turkmenistan</th>\n",
       "      <th>Extraction and Pipelines</th>\n",
       "      <td>1.420000e+10</td>\n",
       "    </tr>\n",
       "    <tr>\n",
       "      <th>Argentina</th>\n",
       "      <th>Transport</th>\n",
       "      <td>1.387100e+10</td>\n",
       "    </tr>\n",
       "  </tbody>\n",
       "</table>\n",
       "</div>"
      ],
      "text/plain": [
       "                                                         AMOUNT\n",
       "Country            SECTOR                                      \n",
       "Venezuela          Mulit-sector and discretionary  4.050000e+10\n",
       "Russian Federation Extraction and Pipelines        2.750000e+10\n",
       "Brazil             Extraction and Pipelines        2.500000e+10\n",
       "Pakistan           Power                           1.840600e+10\n",
       "Angola             Extraction and Pipelines        1.750000e+10\n",
       "Pakistan           Transport                       1.680300e+10\n",
       "Venezuela          Extraction and Pipelines        1.520000e+10\n",
       "Iran               Other construction              1.500000e+10\n",
       "Turkmenistan       Extraction and Pipelines        1.420000e+10\n",
       "Argentina          Transport                       1.387100e+10"
      ]
     },
     "execution_count": 66,
     "metadata": {},
     "output_type": "execute_result"
    }
   ],
   "source": [
    "loan_country_sector[['AMOUNT']].sort_values('AMOUNT', ascending = False).head(10)"
   ]
  },
  {
   "cell_type": "markdown",
   "metadata": {},
   "source": [
    "* We may apply groupby to two columns, such as \"Country\" and \"Sector,\" and then total the values in the aggregate.\n",
    "* Now that we can sort in decreasing order, the highest debt taken will be displayed at the top.\n",
    "* We can observe that Venezuela has accepted the largest loan in the multi-sector and discretionary categories, totaling more than 40 billion dollars, from the loan country sector.\n",
    "* For the extraction and pipelines sector, the Russian Federation has borrowed a total of more than 27.5 billion dollars.\n",
    "* The top 10 sums of loans by sector include the extraction and pipelines sector five times."
   ]
  },
  {
   "cell_type": "code",
   "execution_count": 68,
   "metadata": {},
   "outputs": [
    {
     "data": {
      "image/png": "[encoded data removed]",
      "text/plain": [
       "<Figure size 1440x576 with 1 Axes>"
      ]
     },
     "metadata": {
      "needs_background": "light"
     },
     "output_type": "display_data"
    }
   ],
   "source": [
    "plt.figure(figsize=(20,8))\n",
    "sns.lineplot(x = 'Country',y = 'YEAR', data = china_data)\n",
    "plt.xticks(rotation = 90)\n",
    "plt.show()"
   ]
  },
  {
   "cell_type": "code",
   "execution_count": 79,
   "metadata": {},
   "outputs": [
    {
     "data": {
      "application/vnd.plotly.v1+json": {
       "config": {
        "plotlyServerURL": "https://plot.ly"
       },
       "data": [
        {
         "alignmentgroup": "True",
         "bingroup": "x",
         "hovertemplate": "SECTOR=Transport<br>Country=%{x}<br>count=%{y}<extra></extra>",
         "legendgroup": "Transport",
         "marker": {
          "color": "#636efa",
          "pattern": {
           "shape": ""
          }
         },
         "name": "Transport",
         "offsetgroup": "Transport",
         "orientation": "v",
         "showlegend": true,
         "type": "histogram",
         "x": [
          "Angola",
          "Angola",
          "Nigeria",
          "Cambodia",
          "Cote d'Ivoire",
          "Cote d'Ivoire",
          "Nigeria",
          "Nigeria",
          "Nigeria",
          "Nigeria",
          "Ethiopia",
          "Ethiopia",
          "Ethiopia",
          "Ethiopia",
          "Ethiopia",
          "Ethiopia",
          "Ethiopia",
          "Djibouti",
          "Cote d'Ivoire",
          "Ukraine",
          "South Sudan",
          "Benin",
          "Sudan",
          "Kyrgyz Republic",
          "Kyrgyz Republic",
          "Cote d'Ivoire",
          "Mauritania",
          "Kazakhstan",
          "Congo, Democratic Republic of the",
          "Indonesia",
          "Mali",
          "Hungary",
          "Serbia",
          "Angola",
          "Congo, Democratic Republic of the",
          "Morocco",
          "Kyrgyz Republic",
          "Kyrgyz Republic",
          "Ethiopia",
          "Ethiopia",
          "Congo, Democratic Republic of the",
          "Fiji",
          "Rwanda",
          "Sri Lanka",
          "Angola",
          "Angola",
          "Angola",
          "Angola",
          "Angola",
          "Angola",
          "Angola",
          "Angola",
          "Cambodia",
          "Angola",
          "Sri Lanka",
          "Guyana",
          "Maldives",
          "Laos",
          "Cambodia",
          "Indonesia",
          "Sri Lanka",
          "Sri Lanka",
          "Maldives",
          "Montenegro",
          "Cambodia",
          "Cambodia",
          "Cambodia",
          "Cambodia",
          "Sri Lanka",
          "Laos",
          "Zambia",
          "Serbia",
          "Angola",
          "Angola",
          "Angola",
          "Angola",
          "Angola",
          "Angola",
          "Angola",
          "Angola",
          "Zambia",
          "Bangladesh",
          "Ethiopia",
          "Djibouti",
          "Sri Lanka",
          "Guyana",
          "Malaysia",
          "Congo, Democratic Republic of the",
          "Bolivia",
          "Sudan",
          "Sudan",
          "Bolivia",
          "Belarus",
          "Belarus",
          "Belarus",
          "Angola",
          "Angola",
          "Angola",
          "Angola",
          "Angola",
          "Mozambique",
          "Mozambique",
          "Uganda",
          "Pakistan",
          "Maldives",
          "Cambodia",
          "Cambodia",
          "Cambodia",
          "Madagascar",
          "Cambodia",
          "Samoa",
          "Fiji",
          "Senegal",
          "Congo, Republic of the",
          "Congo, Republic of the",
          "Djibouti",
          "Papua New Guinea",
          "Lesotho",
          "Sri Lanka",
          "Sri Lanka",
          "Sri Lanka",
          "Sri Lanka",
          "Sri Lanka",
          "Zimbabwe",
          "Pakistan",
          "Mongolia",
          "Sri Lanka",
          "Sri Lanka",
          "Angola",
          "Angola",
          "Rwanda",
          "Madagascar",
          "Madagascar",
          "Suriname",
          "Indonesia",
          "Jamaica",
          "Ethiopia",
          "Uganda",
          "Pakistan",
          "Pakistan",
          "Pakistan",
          "Bangladesh",
          "Papua New Guinea",
          "Kenya",
          "Macedonia",
          "Rwanda",
          "Rwanda",
          "Cameroon",
          "Cameroon",
          "Cameroon",
          "Cameroon",
          "Kyrgyz Republic",
          "Nigeria",
          "Angola",
          "Angola",
          "Gabon",
          "Gabon",
          "Eritrea",
          "Angola",
          "Angola",
          "Angola",
          "Angola",
          "Angola",
          "Angola",
          "Vanuatu",
          "Angola",
          "Zambia",
          "Zambia",
          "Zambia",
          "Zambia",
          "Congo, Democratic Republic of the",
          "Belarus",
          "Nepal",
          "Cameroon",
          "Angola",
          "Indonesia",
          "Zambia",
          "Zambia",
          "Mozambique",
          "Mozambique",
          "Mozambique",
          "Sri Lanka",
          "Grenada",
          "Congo, Republic of the",
          "Zambia",
          "Laos",
          "Ethiopia",
          "Argentina",
          "Equatorial Guinea",
          "Ethiopia",
          "Zambia",
          "Venezuela",
          "Russian Federation",
          "Angola",
          "Namibia",
          "Rwanda",
          "Congo, Democratic Republic of the",
          "Angola",
          "Kenya",
          "Kenya",
          "Kenya",
          "Bahamas",
          "Suriname",
          "Tonga",
          "Cambodia",
          "Congo, Republic of the",
          "Congo, Republic of the",
          "Congo, Republic of the",
          "Papua New Guinea",
          "Zambia",
          "South Sudan",
          "Sudan",
          "Togo",
          "Togo",
          "Togo",
          "Kyrgyz Republic",
          "Kyrgyz Republic",
          "Jamaica",
          "Sri Lanka",
          "Mauritania",
          "Angola",
          "Serbia",
          "Pakistan",
          "Kyrgyz Republic",
          "Kyrgyz Republic",
          "Congo, Republic of the",
          "Uzbekistan",
          "Pakistan",
          "Nepal",
          "Bangladesh",
          "Montenegro",
          "Uzbekistan",
          "Uzbekistan",
          "Argentina",
          "Iran",
          "Russian Federation",
          "Angola",
          "Belarus",
          "Sri Lanka",
          "Sri Lanka",
          "Sri Lanka",
          "Sri Lanka",
          "Sri Lanka",
          "Sri Lanka",
          "Argentina",
          "Cambodia",
          "Angola",
          "Cambodia",
          "Cambodia",
          "Angola",
          "Argentina",
          "Congo, Democratic Republic of the",
          "Congo, Democratic Republic of the",
          "Congo, Democratic Republic of the",
          "Jamaica",
          "Gabon",
          "Senegal",
          "Jamaica",
          "Vanuatu",
          "Angola",
          "Angola",
          "Angola",
          "Angola",
          "Angola",
          "Vanuatu",
          "Fiji",
          "Fiji",
          "Liberia",
          "Philippines",
          "Angola",
          "Bolivia",
          "Costa Rica",
          "Argentina",
          "Cuba",
          "Angola",
          "Sudan",
          "Kenya",
          "Kenya",
          "Kenya",
          "Ethiopia",
          "Cambodia",
          "Ecuador",
          "Mauritius",
          "Indonesia",
          "Sudan",
          "Sri Lanka",
          "Philippines",
          "Angola",
          "Antigua & Barbuda",
          "Philippines",
          "Angola",
          "Angola",
          "Sri Lanka",
          "Serbia",
          "Ghana",
          "Pakistan",
          "Cambodia",
          "Senegal",
          "Cote d'Ivoire",
          "Togo",
          "Argentina",
          "Brazil",
          "Bolivia",
          "Bolivia",
          "Tunisia",
          "South Africa",
          "South Africa",
          "Sudan",
          "Congo, Democratic Republic of the",
          "Laos",
          "Antigua & Barbuda",
          "Tajikistan",
          "Zimbabwe",
          "Cameroon",
          "Sudan",
          "Tanzania",
          "Serbia"
         ],
         "xaxis": "x",
         "yaxis": "y"
        },
        {
         "alignmentgroup": "True",
         "bingroup": "x",
         "hovertemplate": "SECTOR=Extraction and Pipelines<br>Country=%{x}<br>count=%{y}<extra></extra>",
         "legendgroup": "Extraction and Pipelines",
         "marker": {
          "color": "#EF553B",
          "pattern": {
           "shape": ""
          }
         },
         "name": "Extraction and Pipelines",
         "offsetgroup": "Extraction and Pipelines",
         "orientation": "v",
         "showlegend": true,
         "type": "histogram",
         "x": [
          "Brazil",
          "Niger",
          "Kazakhstan",
          "Brazil",
          "Uzbekistan",
          "Venezuela",
          "Bolivia",
          "Russian Federation",
          "Turkmenistan",
          "Turkmenistan",
          "Pakistan",
          "Venezuela",
          "Turkmenistan",
          "Turkmenistan",
          "Venezuela",
          "Venezuela",
          "Tanzania",
          "Brazil",
          "Brazil",
          "Russian Federation",
          "Bangladesh",
          "Venezuela",
          "Venezuela",
          "Bangladesh",
          "Brazil",
          "Russian Federation",
          "Congo, Democratic Republic of the",
          "Bangladesh",
          "Belarus",
          "Angola",
          "Angola",
          "Angola",
          "Angola",
          "Angola",
          "Brazil",
          "Mongolia",
          "Mexico",
          "Ghana"
         ],
         "xaxis": "x",
         "yaxis": "y"
        },
        {
         "alignmentgroup": "True",
         "bingroup": "x",
         "hovertemplate": "SECTOR=Government<br>Country=%{x}<br>count=%{y}<extra></extra>",
         "legendgroup": "Government",
         "marker": {
          "color": "#00cc96",
          "pattern": {
           "shape": ""
          }
         },
         "name": "Government",
         "offsetgroup": "Government",
         "orientation": "v",
         "showlegend": true,
         "type": "histogram",
         "x": [
          "Suriname",
          "Kenya",
          "Cote d'Ivoire",
          "Cote d'Ivoire",
          "Cote d'Ivoire",
          "Ethiopia",
          "Philippines",
          "Zambia",
          "Pakistan",
          "Regional",
          "Egypt",
          "Tanzania",
          "Regional",
          "Senegal",
          "Angola",
          "Angola",
          "Angola",
          "Angola",
          "Philippines",
          "Mozambique",
          "Bolivia",
          "Cote d'Ivoire",
          "Gabon",
          "Congo, Republic of the",
          "Angola",
          "Papua New Guinea",
          "Ethiopia",
          "Bangladesh",
          "Zambia",
          "Zambia",
          "Ecuador",
          "Maldives",
          "Maldives",
          "Maldives",
          "Timor-Leste",
          "Djibouti",
          "Cameroon",
          "Congo, Republic of the",
          "Cameroon",
          "Indonesia",
          "Cameroon",
          "Pakistan",
          "Ecuador",
          "Kenya",
          "Fiji",
          "Ecuador",
          "Senegal",
          "Congo, Democratic Republic of the",
          "Zambia",
          "Nigeria",
          "Sri Lanka",
          "Zimbabwe",
          "Angola",
          "Congo, Democratic Republic of the",
          "Ghana",
          "Egypt",
          "Egypt",
          "Angola",
          "Angola",
          "Jamaica",
          "Philippines",
          "Guinea",
          "Kenya",
          "Kenya",
          "Kenya",
          "Ghana",
          "Laos",
          "Fiji",
          "Angola",
          "Zambia",
          "Angola",
          "Malawi",
          "Angola",
          "Zimbabwe",
          "Ethiopia",
          "Tanzania",
          "Zambia",
          "Mozambique",
          "Congo, Republic of the",
          "Zimbabwe",
          "Angola",
          "Papua New Guinea",
          "Samoa",
          "Samoa",
          "Senegal",
          "Ghana",
          "Cameroon",
          "Zambia",
          "Sudan",
          "Bangladesh",
          "Jamaica",
          "Ghana",
          "Niger",
          "Cameroon",
          "Cameroon",
          "Regional",
          "Regional",
          "Myanmar",
          "Zambia",
          "Bangladesh",
          "Kenya",
          "Angola",
          "Argentina",
          "Kenya",
          "Regional",
          "Regional",
          "Regional",
          "Ethiopia",
          "Zambia",
          "Egypt",
          "Egypt",
          "Ethiopia",
          "Mozambique",
          "Egypt",
          "Cameroon",
          "Cambodia",
          "Papua New Guinea",
          "Angola",
          "Regional",
          "Ghana",
          "Cambodia",
          "Russian Federation",
          "Angola",
          "Angola",
          "Angola",
          "Angola",
          "Angola",
          "Angola",
          "Angola",
          "Angola",
          "Angola",
          "Angola",
          "Angola",
          "Regional",
          "Regional",
          "Regional",
          "Cameroon",
          "Zambia"
         ],
         "xaxis": "x",
         "yaxis": "y"
        },
        {
         "alignmentgroup": "True",
         "bingroup": "x",
         "hovertemplate": "SECTOR=Power<br>Country=%{x}<br>count=%{y}<extra></extra>",
         "legendgroup": "Power",
         "marker": {
          "color": "#ab63fa",
          "pattern": {
           "shape": ""
          }
         },
         "name": "Power",
         "offsetgroup": "Power",
         "orientation": "v",
         "showlegend": true,
         "type": "histogram",
         "x": [
          "Cambodia",
          "Cambodia",
          "Cambodia",
          "Congo, Democratic Republic of the",
          "Laos",
          "Laos",
          "Cambodia",
          "Zambia",
          "Laos",
          "Ethiopia",
          "Ethiopia",
          "Ethiopia",
          "Ethiopia",
          "Indonesia",
          "Togo",
          "Benin",
          "Sudan",
          "Uzbekistan",
          "Jordan",
          "Ethiopia",
          "Mauritius",
          "Pakistan",
          "Indonesia",
          "Indonesia",
          "Belarus",
          "Kyrgyz Republic",
          "Nepal",
          "Ghana",
          "Ghana",
          "Pakistan",
          "Congo, Democratic Republic of the",
          "Argentina",
          "Indonesia",
          "Pakistan",
          "Indonesia",
          "Indonesia",
          "Vietnam",
          "Ecuador",
          "Ecuador",
          "Argentina",
          "Senegal",
          "Kyrgyz Republic",
          "Ecuador",
          "Ecuador",
          "Ecuador",
          "Tajikistan",
          "Vietnam",
          "Vietnam",
          "Vietnam",
          "Egypt",
          "Dominican Republic",
          "Uganda",
          "Angola",
          "Angola",
          "Angola",
          "Angola",
          "Ecuador",
          "Ethiopia",
          "Bangladesh",
          "Kenya",
          "Ukraine",
          "Ethiopia",
          "Ethiopia",
          "Ethiopia",
          "Ethiopia",
          "Senegal",
          "Mali",
          "Gabon",
          "Guyana",
          "Vietnam",
          "Sri Lanka",
          "Eritrea",
          "Laos",
          "Pakistan",
          "Zimbabwe",
          "Indonesia",
          "Uganda",
          "Indonesia",
          "Morocco",
          "Cuba",
          "Zambia",
          "Pakistan",
          "Zambia",
          "Zimbabwe",
          "Zimbabwe",
          "Uganda",
          "Kenya",
          "Tajikistan",
          "Cambodia",
          "Bangladesh",
          "Serbia",
          "Angola",
          "Gabon",
          "Congo, Republic of the",
          "Congo, Republic of the",
          "Cambodia",
          "Serbia",
          "Zambia",
          "Philippines",
          "Equatorial Guinea",
          "Angola",
          "South Africa",
          "South Africa",
          "Cameroon",
          "Cameroon",
          "Cameroon",
          "Ecuador",
          "Belarus",
          "Sri Lanka",
          "Fiji",
          "Indonesia",
          "Kenya",
          "Kenya",
          "Laos",
          "Laos",
          "Laos",
          "Laos",
          "Laos",
          "Laos",
          "Laos",
          "Cote d'Ivoire",
          "Pakistan",
          "Pakistan",
          "Sri Lanka",
          "Ecuador",
          "Ecuador",
          "Kenya",
          "Kenya",
          "Kenya",
          "Indonesia",
          "Indonesia",
          "Laos",
          "Indonesia",
          "Indonesia",
          "Indonesia",
          "Indonesia",
          "Indonesia",
          "Bangladesh",
          "Indonesia",
          "Cambodia",
          "Indonesia",
          "Brazil",
          "Sri Lanka",
          "Kenya",
          "Togo",
          "Vietnam",
          "Kenya",
          "Pakistan",
          "Madagascar",
          "Tajikistan",
          "Indonesia",
          "Belarus",
          "Bolivia",
          "Cambodia",
          "Cambodia",
          "Cambodia",
          "Cambodia",
          "Laos",
          "Myanmar",
          "Togo",
          "Ecuador",
          "Niger",
          "Guinea",
          "Cote d'Ivoire",
          "Sudan",
          "Angola",
          "Maldives",
          "Cambodia",
          "Indonesia",
          "Indonesia",
          "Indonesia",
          "Indonesia",
          "Mali",
          "Pakistan",
          "Indonesia",
          "Vietnam",
          "Sri Lanka",
          "Pakistan",
          "Kazakhstan",
          "Venezuela",
          "Nigeria",
          "Congo, Republic of the",
          "Nepal",
          "Bosnia & Herzegovina",
          "Tajikistan",
          "Vietnam",
          "Uzbekistan",
          "Angola",
          "Angola",
          "Angola",
          "Nepal",
          "Myanmar",
          "Argentina",
          "Ecuador",
          "Vietnam",
          "Vietnam",
          "Vietnam",
          "Belarus",
          "Vietnam",
          "Nepal",
          "Laos",
          "Congo, Democratic Republic of the",
          "Nigeria"
         ],
         "xaxis": "x",
         "yaxis": "y"
        },
        {
         "alignmentgroup": "True",
         "bingroup": "x",
         "hovertemplate": "SECTOR=Mulit-sector and discretionary<br>Country=%{x}<br>count=%{y}<extra></extra>",
         "legendgroup": "Mulit-sector and discretionary",
         "marker": {
          "color": "#FFA15A",
          "pattern": {
           "shape": ""
          }
         },
         "name": "Mulit-sector and discretionary",
         "offsetgroup": "Mulit-sector and discretionary",
         "orientation": "v",
         "showlegend": true,
         "type": "histogram",
         "x": [
          "Kenya",
          "Ecuador",
          "Philippines",
          "Sudan",
          "Trinidad and Tobago",
          "Ecuador",
          "Peru",
          "Venezuela",
          "Venezuela",
          "Venezuela",
          "Venezuela",
          "Serbia",
          "Morocco",
          "Uganda",
          "Jamaica",
          "Venezuela",
          "Venezuela",
          "Ecuador",
          "Regional",
          "Angola",
          "Chad",
          "Venezuela",
          "Trinidad and Tobago",
          "Argentina",
          "Brazil",
          "Vietnam",
          "Eritrea",
          "Eritrea",
          "Eritrea",
          "Ecuador"
         ],
         "xaxis": "x",
         "yaxis": "y"
        },
        {
         "alignmentgroup": "True",
         "bingroup": "x",
         "hovertemplate": "SECTOR=Telecom<br>Country=%{x}<br>count=%{y}<extra></extra>",
         "legendgroup": "Telecom",
         "marker": {
          "color": "#19d3f3",
          "pattern": {
           "shape": ""
          }
         },
         "name": "Telecom",
         "offsetgroup": "Telecom",
         "orientation": "v",
         "showlegend": true,
         "type": "histogram",
         "x": [
          "Bangladesh",
          "Benin",
          "Nigeria",
          "Togo",
          "Zambia",
          "Cameroon",
          "Cameroon",
          "Bangladesh",
          "Zambia",
          "Mozambique",
          "Congo, Republic of the",
          "Togo",
          "Ghana",
          "Senegal",
          "Ghana",
          "Ghana",
          "Angola",
          "Angola",
          "Cameroon",
          "Cameroon",
          "Kenya",
          "Niger",
          "Mali",
          "Congo, Democratic Republic of the",
          "Congo, Democratic Republic of the",
          "Gambia",
          "Congo, Democratic Republic of the",
          "Tanzania",
          "Tanzania",
          "Tanzania",
          "Nigeria",
          "Bangladesh",
          "Papua New Guinea",
          "Papua New Guinea",
          "Sri Lanka",
          "Mali",
          "Mozambique",
          "Angola",
          "Guinea",
          "Uganda",
          "Mali",
          "Suriname",
          "Senegal",
          "Cameroon",
          "Kenya",
          "Nigeria",
          "Cameroon",
          "Congo, Republic of the",
          "Zimbabwe",
          "Zimbabwe",
          "Pakistan",
          "Pakistan",
          "Zimbabwe",
          "Belarus",
          "Zambia",
          "Guinea",
          "Cameroon",
          "Comoros",
          "Zimbabwe",
          "Bangladesh",
          "Bolivia",
          "Vanuatu",
          "Russian Federation"
         ],
         "xaxis": "x",
         "yaxis": "y"
        },
        {
         "alignmentgroup": "True",
         "bingroup": "x",
         "hovertemplate": "SECTOR=Other construction<br>Country=%{x}<br>count=%{y}<extra></extra>",
         "legendgroup": "Other construction",
         "marker": {
          "color": "#FF6692",
          "pattern": {
           "shape": ""
          }
         },
         "name": "Other construction",
         "offsetgroup": "Other construction",
         "orientation": "v",
         "showlegend": true,
         "type": "histogram",
         "x": [
          "Bahamas",
          "Malawi",
          "Malawi",
          "Congo, Republic of the",
          "Angola",
          "Angola",
          "Angola",
          "Angola",
          "Ghana",
          "Belarus",
          "Samoa",
          "Benin",
          "Iran",
          "Bolivia",
          "Ethiopia",
          "Angola",
          "Ecuador",
          "Egypt",
          "Cameroon",
          "Cameroon",
          "Zambia",
          "Angola",
          "Congo, Republic of the",
          "Congo, Republic of the",
          "Equatorial Guinea",
          "Ecuador",
          "Barbados",
          "Tonga",
          "Papua New Guinea"
         ],
         "xaxis": "x",
         "yaxis": "y"
        },
        {
         "alignmentgroup": "True",
         "bingroup": "x",
         "hovertemplate": "SECTOR=Agricultiure and Food<br>Country=%{x}<br>count=%{y}<extra></extra>",
         "legendgroup": "Agricultiure and Food",
         "marker": {
          "color": "#B6E880",
          "pattern": {
           "shape": ""
          }
         },
         "name": "Agricultiure and Food",
         "offsetgroup": "Agricultiure and Food",
         "orientation": "v",
         "showlegend": true,
         "type": "histogram",
         "x": [
          "Myanmar",
          "Mozambique",
          "Eritrea",
          "Mozambique",
          "Angola",
          "Angola",
          "Mozambique",
          "Angola",
          "Angola",
          "Angola",
          "Ethiopia",
          "Angola",
          "Angola",
          "Angola",
          "Angola",
          "Myanmar",
          "Mali",
          "Ethiopia",
          "Ethiopia",
          "Papua New Guinea",
          "Angola",
          "Ukraine",
          "Angola",
          "Regional",
          "Zambia",
          "Brazil",
          "Ethiopia"
         ],
         "xaxis": "x",
         "yaxis": "y"
        },
        {
         "alignmentgroup": "True",
         "bingroup": "x",
         "hovertemplate": "SECTOR=Manufacturing<br>Country=%{x}<br>count=%{y}<extra></extra>",
         "legendgroup": "Manufacturing",
         "marker": {
          "color": "#FF97FF",
          "pattern": {
           "shape": ""
          }
         },
         "name": "Manufacturing",
         "offsetgroup": "Manufacturing",
         "orientation": "v",
         "showlegend": true,
         "type": "histogram",
         "x": [
          "Angola",
          "Kazakhstan",
          "Bangladesh",
          "Uzbekistan",
          "Kazakhstan",
          "Kazakhstan",
          "Uzbekistan",
          "Chad",
          "Venezuela",
          "Kazakhstan",
          "Uzbekistan",
          "Russian Federation"
         ],
         "xaxis": "x",
         "yaxis": "y"
        }
       ],
       "layout": {
        "autosize": true,
        "barmode": "relative",
        "legend": {
         "title": {
          "text": "SECTOR"
         },
         "tracegroupgap": 0
        },
        "margin": {
         "t": 60
        },
        "template": {
         "data": {
          "bar": [
           {
            "error_x": {
             "color": "#2a3f5f"
            },
            "error_y": {
             "color": "#2a3f5f"
            },
            "marker": {
             "line": {
              "color": "#E5ECF6",
              "width": 0.5
             },
             "pattern": {
              "fillmode": "overlay",
              "size": 10,
              "solidity": 0.2
             }
            },
            "type": "bar"
           }
          ],
          "barpolar": [
           {
            "marker": {
             "line": {
              "color": "#E5ECF6",
              "width": 0.5
             },
             "pattern": {
              "fillmode": "overlay",
              "size": 10,
              "solidity": 0.2
             }
            },
            "type": "barpolar"
           }
          ],
          "carpet": [
           {
            "aaxis": {
             "endlinecolor": "#2a3f5f",
             "gridcolor": "white",
             "linecolor": "white",
             "minorgridcolor": "white",
             "startlinecolor": "#2a3f5f"
            },
            "baxis": {
             "endlinecolor": "#2a3f5f",
             "gridcolor": "white",
             "linecolor": "white",
             "minorgridcolor": "white",
             "startlinecolor": "#2a3f5f"
            },
            "type": "carpet"
           }
          ],
          "choropleth": [
           {
            "colorbar": {
             "outlinewidth": 0,
             "ticks": ""
            },
            "type": "choropleth"
           }
          ],
          "contour": [
           {
            "colorbar": {
             "outlinewidth": 0,
             "ticks": ""
            },
            "colorscale": [
             [
              0,
              "#0d0887"
             ],
             [
              0.1111111111111111,
              "#46039f"
             ],
             [
              0.2222222222222222,
              "#7201a8"
             ],
             [
              0.3333333333333333,
              "#9c179e"
             ],
             [
              0.4444444444444444,
              "#bd3786"
             ],
             [
              0.5555555555555556,
              "#d8576b"
             ],
             [
              0.6666666666666666,
              "#ed7953"
             ],
             [
              0.7777777777777778,
              "#fb9f3a"
             ],
             [
              0.8888888888888888,
              "#fdca26"
             ],
             [
              1,
              "#f0f921"
             ]
            ],
            "type": "contour"
           }
          ],
          "contourcarpet": [
           {
            "colorbar": {
             "outlinewidth": 0,
             "ticks": ""
            },
            "type": "contourcarpet"
           }
          ],
          "heatmap": [
           {
            "colorbar": {
             "outlinewidth": 0,
             "ticks": ""
            },
            "colorscale": [
             [
              0,
              "#0d0887"
             ],
             [
              0.1111111111111111,
              "#46039f"
             ],
             [
              0.2222222222222222,
              "#7201a8"
             ],
             [
              0.3333333333333333,
              "#9c179e"
             ],
             [
              0.4444444444444444,
              "#bd3786"
             ],
             [
              0.5555555555555556,
              "#d8576b"
             ],
             [
              0.6666666666666666,
              "#ed7953"
             ],
             [
              0.7777777777777778,
              "#fb9f3a"
             ],
             [
              0.8888888888888888,
              "#fdca26"
             ],
             [
              1,
              "#f0f921"
             ]
            ],
            "type": "heatmap"
           }
          ],
          "heatmapgl": [
           {
            "colorbar": {
             "outlinewidth": 0,
             "ticks": ""
            },
            "colorscale": [
             [
              0,
              "#0d0887"
             ],
             [
              0.1111111111111111,
              "#46039f"
             ],
             [
              0.2222222222222222,
              "#7201a8"
             ],
             [
              0.3333333333333333,
              "#9c179e"
             ],
             [
              0.4444444444444444,
              "#bd3786"
             ],
             [
              0.5555555555555556,
              "#d8576b"
             ],
             [
              0.6666666666666666,
              "#ed7953"
             ],
             [
              0.7777777777777778,
              "#fb9f3a"
             ],
             [
              0.8888888888888888,
              "#fdca26"
             ],
             [
              1,
              "#f0f921"
             ]
            ],
            "type": "heatmapgl"
           }
          ],
          "histogram": [
           {
            "marker": {
             "pattern": {
              "fillmode": "overlay",
              "size": 10,
              "solidity": 0.2
             }
            },
            "type": "histogram"
           }
          ],
          "histogram2d": [
           {
            "colorbar": {
             "outlinewidth": 0,
             "ticks": ""
            },
            "colorscale": [
             [
              0,
              "#0d0887"
             ],
             [
              0.1111111111111111,
              "#46039f"
             ],
             [
              0.2222222222222222,
              "#7201a8"
             ],
             [
              0.3333333333333333,
              "#9c179e"
             ],
             [
              0.4444444444444444,
              "#bd3786"
             ],
             [
              0.5555555555555556,
              "#d8576b"
             ],
             [
              0.6666666666666666,
              "#ed7953"
             ],
             [
              0.7777777777777778,
              "#fb9f3a"
             ],
             [
              0.8888888888888888,
              "#fdca26"
             ],
             [
              1,
              "#f0f921"
             ]
            ],
            "type": "histogram2d"
           }
          ],
          "histogram2dcontour": [
           {
            "colorbar": {
             "outlinewidth": 0,
             "ticks": ""
            },
            "colorscale": [
             [
              0,
              "#0d0887"
             ],
             [
              0.1111111111111111,
              "#46039f"
             ],
             [
              0.2222222222222222,
              "#7201a8"
             ],
             [
              0.3333333333333333,
              "#9c179e"
             ],
             [
              0.4444444444444444,
              "#bd3786"
             ],
             [
              0.5555555555555556,
              "#d8576b"
             ],
             [
              0.6666666666666666,
              "#ed7953"
             ],
             [
              0.7777777777777778,
              "#fb9f3a"
             ],
             [
              0.8888888888888888,
              "#fdca26"
             ],
             [
              1,
              "#f0f921"
             ]
            ],
            "type": "histogram2dcontour"
           }
          ],
          "mesh3d": [
           {
            "colorbar": {
             "outlinewidth": 0,
             "ticks": ""
            },
            "type": "mesh3d"
           }
          ],
          "parcoords": [
           {
            "line": {
             "colorbar": {
              "outlinewidth": 0,
              "ticks": ""
             }
            },
            "type": "parcoords"
           }
          ],
          "pie": [
           {
            "automargin": true,
            "type": "pie"
           }
          ],
          "scatter": [
           {
            "marker": {
             "colorbar": {
              "outlinewidth": 0,
              "ticks": ""
             }
            },
            "type": "scatter"
           }
          ],
          "scatter3d": [
           {
            "line": {
             "colorbar": {
              "outlinewidth": 0,
              "ticks": ""
             }
            },
            "marker": {
             "colorbar": {
              "outlinewidth": 0,
              "ticks": ""
             }
            },
            "type": "scatter3d"
           }
          ],
          "scattercarpet": [
           {
            "marker": {
             "colorbar": {
              "outlinewidth": 0,
              "ticks": ""
             }
            },
            "type": "scattercarpet"
           }
          ],
          "scattergeo": [
           {
            "marker": {
             "colorbar": {
              "outlinewidth": 0,
              "ticks": ""
             }
            },
            "type": "scattergeo"
           }
          ],
          "scattergl": [
           {
            "marker": {
             "colorbar": {
              "outlinewidth": 0,
              "ticks": ""
             }
            },
            "type": "scattergl"
           }
          ],
          "scattermapbox": [
           {
            "marker": {
             "colorbar": {
              "outlinewidth": 0,
              "ticks": ""
             }
            },
            "type": "scattermapbox"
           }
          ],
          "scatterpolar": [
           {
            "marker": {
             "colorbar": {
              "outlinewidth": 0,
              "ticks": ""
             }
            },
            "type": "scatterpolar"
           }
          ],
          "scatterpolargl": [
           {
            "marker": {
             "colorbar": {
              "outlinewidth": 0,
              "ticks": ""
             }
            },
            "type": "scatterpolargl"
           }
          ],
          "scatterternary": [
           {
            "marker": {
             "colorbar": {
              "outlinewidth": 0,
              "ticks": ""
             }
            },
            "type": "scatterternary"
           }
          ],
          "surface": [
           {
            "colorbar": {
             "outlinewidth": 0,
             "ticks": ""
            },
            "colorscale": [
             [
              0,
              "#0d0887"
             ],
             [
              0.1111111111111111,
              "#46039f"
             ],
             [
              0.2222222222222222,
              "#7201a8"
             ],
             [
              0.3333333333333333,
              "#9c179e"
             ],
             [
              0.4444444444444444,
              "#bd3786"
             ],
             [
              0.5555555555555556,
              "#d8576b"
             ],
             [
              0.6666666666666666,
              "#ed7953"
             ],
             [
              0.7777777777777778,
              "#fb9f3a"
             ],
             [
              0.8888888888888888,
              "#fdca26"
             ],
             [
              1,
              "#f0f921"
             ]
            ],
            "type": "surface"
           }
          ],
          "table": [
           {
            "cells": {
             "fill": {
              "color": "#EBF0F8"
             },
             "line": {
              "color": "white"
             }
            },
            "header": {
             "fill": {
              "color": "#C8D4E3"
             },
             "line": {
              "color": "white"
             }
            },
            "type": "table"
           }
          ]
         },
         "layout": {
          "annotationdefaults": {
           "arrowcolor": "#2a3f5f",
           "arrowhead": 0,
           "arrowwidth": 1
          },
          "autotypenumbers": "strict",
          "coloraxis": {
           "colorbar": {
            "outlinewidth": 0,
            "ticks": ""
           }
          },
          "colorscale": {
           "diverging": [
            [
             0,
             "#8e0152"
            ],
            [
             0.1,
             "#c51b7d"
            ],
            [
             0.2,
             "#de77ae"
            ],
            [
             0.3,
             "#f1b6da"
            ],
            [
             0.4,
             "#fde0ef"
            ],
            [
             0.5,
             "#f7f7f7"
            ],
            [
             0.6,
             "#e6f5d0"
            ],
            [
             0.7,
             "#b8e186"
            ],
            [
             0.8,
             "#7fbc41"
            ],
            [
             0.9,
             "#4d9221"
            ],
            [
             1,
             "#276419"
            ]
           ],
           "sequential": [
            [
             0,
             "#0d0887"
            ],
            [
             0.1111111111111111,
             "#46039f"
            ],
            [
             0.2222222222222222,
             "#7201a8"
            ],
            [
             0.3333333333333333,
             "#9c179e"
            ],
            [
             0.4444444444444444,
             "#bd3786"
            ],
            [
             0.5555555555555556,
             "#d8576b"
            ],
            [
             0.6666666666666666,
             "#ed7953"
            ],
            [
             0.7777777777777778,
             "#fb9f3a"
            ],
            [
             0.8888888888888888,
             "#fdca26"
            ],
            [
             1,
             "#f0f921"
            ]
           ],
           "sequentialminus": [
            [
             0,
             "#0d0887"
            ],
            [
             0.1111111111111111,
             "#46039f"
            ],
            [
             0.2222222222222222,
             "#7201a8"
            ],
            [
             0.3333333333333333,
             "#9c179e"
            ],
            [
             0.4444444444444444,
             "#bd3786"
            ],
            [
             0.5555555555555556,
             "#d8576b"
            ],
            [
             0.6666666666666666,
             "#ed7953"
            ],
            [
             0.7777777777777778,
             "#fb9f3a"
            ],
            [
             0.8888888888888888,
             "#fdca26"
            ],
            [
             1,
             "#f0f921"
            ]
           ]
          },
          "colorway": [
           "#636efa",
           "#EF553B",
           "#00cc96",
           "#ab63fa",
           "#FFA15A",
           "#19d3f3",
           "#FF6692",
           "#B6E880",
           "#FF97FF",
           "#FECB52"
          ],
          "font": {
           "color": "#2a3f5f"
          },
          "geo": {
           "bgcolor": "white",
           "lakecolor": "white",
           "landcolor": "#E5ECF6",
           "showlakes": true,
           "showland": true,
           "subunitcolor": "white"
          },
          "hoverlabel": {
           "align": "left"
          },
          "hovermode": "closest",
          "mapbox": {
           "style": "light"
          },
          "paper_bgcolor": "white",
          "plot_bgcolor": "#E5ECF6",
          "polar": {
           "angularaxis": {
            "gridcolor": "white",
            "linecolor": "white",
            "ticks": ""
           },
           "bgcolor": "#E5ECF6",
           "radialaxis": {
            "gridcolor": "white",
            "linecolor": "white",
            "ticks": ""
           }
          },
          "scene": {
           "xaxis": {
            "backgroundcolor": "#E5ECF6",
            "gridcolor": "white",
            "gridwidth": 2,
            "linecolor": "white",
            "showbackground": true,
            "ticks": "",
            "zerolinecolor": "white"
           },
           "yaxis": {
            "backgroundcolor": "#E5ECF6",
            "gridcolor": "white",
            "gridwidth": 2,
            "linecolor": "white",
            "showbackground": true,
            "ticks": "",
            "zerolinecolor": "white"
           },
           "zaxis": {
            "backgroundcolor": "#E5ECF6",
            "gridcolor": "white",
            "gridwidth": 2,
            "linecolor": "white",
            "showbackground": true,
            "ticks": "",
            "zerolinecolor": "white"
           }
          },
          "shapedefaults": {
           "line": {
            "color": "#2a3f5f"
           }
          },
          "ternary": {
           "aaxis": {
            "gridcolor": "white",
            "linecolor": "white",
            "ticks": ""
           },
           "baxis": {
            "gridcolor": "white",
            "linecolor": "white",
            "ticks": ""
           },
           "bgcolor": "#E5ECF6",
           "caxis": {
            "gridcolor": "white",
            "linecolor": "white",
            "ticks": ""
           }
          },
          "title": {
           "x": 0.05
          },
          "xaxis": {
           "automargin": true,
           "gridcolor": "white",
           "linecolor": "white",
           "ticks": "",
           "title": {
            "standoff": 15
           },
           "zerolinecolor": "white",
           "zerolinewidth": 2
          },
          "yaxis": {
           "automargin": true,
           "gridcolor": "white",
           "linecolor": "white",
           "ticks": "",
           "title": {
            "standoff": 15
           },
           "zerolinecolor": "white",
           "zerolinewidth": 2
          }
         }
        },
        "xaxis": {
         "anchor": "y",
         "autorange": true,
         "domain": [
          0,
          1
         ],
         "range": [
          -0.5,
          93.5
         ],
         "title": {
          "text": "Country"
         },
         "type": "category"
        },
        "yaxis": {
         "anchor": "x",
         "autorange": true,
         "domain": [
          0,
          1
         ],
         "range": [
          0,
          121.05263157894737
         ],
         "title": {
          "text": "count"
         }
        }
       }
      },
      "image/png": "[encoded data removed]",
      "text/html": [
       "<div>                            <div id=\"bc6ad339-0e86-4a94-a1cb-475d8d4f1988\" class=\"plotly-graph-div\" style=\"height:525px; width:100%;\"></div>            <script type=\"text/javascript\">                require([\"plotly\"], function(Plotly) {                    window.PLOTLYENV=window.PLOTLYENV || {};                                    if (document.getElementById(\"bc6ad339-0e86-4a94-a1cb-475d8d4f1988\")) {                    Plotly.newPlot(                        \"bc6ad339-0e86-4a94-a1cb-475d8d4f1988\",                        [{\"alignmentgroup\":\"True\",\"bingroup\":\"x\",\"hovertemplate\":\"SECTOR=Transport<br>Country=%{x}<br>count=%{y}<extra></extra>\",\"legendgroup\":\"Transport\",\"marker\":{\"color\":\"#636efa\",\"pattern\":{\"shape\":\"\"}},\"name\":\"Transport\",\"offsetgroup\":\"Transport\",\"orientation\":\"v\",\"showlegend\":true,\"x\":[\"Angola\",\"Angola\",\"Nigeria\",\"Cambodia\",\"Cote d'Ivoire\",\"Cote d'Ivoire\",\"Nigeria\",\"Nigeria\",\"Nigeria\",\"Nigeria\",\"Ethiopia\",\"Ethiopia\",\"Ethiopia\",\"Ethiopia\",\"Ethiopia\",\"Ethiopia\",\"Ethiopia\",\"Djibouti\",\"Cote d'Ivoire\",\"Ukraine\",\"South Sudan\",\"Benin\",\"Sudan\",\"Kyrgyz Republic\",\"Kyrgyz Republic\",\"Cote d'Ivoire\",\"Mauritania\",\"Kazakhstan\",\"Congo, Democratic Republic of the\",\"Indonesia\",\"Mali\",\"Hungary\",\"Serbia\",\"Angola\",\"Congo, Democratic Republic of the\",\"Morocco\",\"Kyrgyz Republic\",\"Kyrgyz Republic\",\"Ethiopia\",\"Ethiopia\",\"Congo, Democratic Republic of the\",\"Fiji\",\"Rwanda\",\"Sri Lanka\",\"Angola\",\"Angola\",\"Angola\",\"Angola\",\"Angola\",\"Angola\",\"Angola\",\"Angola\",\"Cambodia\",\"Angola\",\"Sri Lanka\",\"Guyana\",\"Maldives\",\"Laos\",\"Cambodia\",\"Indonesia\",\"Sri Lanka\",\"Sri Lanka\",\"Maldives\",\"Montenegro\",\"Cambodia\",\"Cambodia\",\"Cambodia\",\"Cambodia\",\"Sri Lanka\",\"Laos\",\"Zambia\",\"Serbia\",\"Angola\",\"Angola\",\"Angola\",\"Angola\",\"Angola\",\"Angola\",\"Angola\",\"Angola\",\"Zambia\",\"Bangladesh\",\"Ethiopia\",\"Djibouti\",\"Sri Lanka\",\"Guyana\",\"Malaysia\",\"Congo, Democratic Republic of the\",\"Bolivia\",\"Sudan\",\"Sudan\",\"Bolivia\",\"Belarus\",\"Belarus\",\"Belarus\",\"Angola\",\"Angola\",\"Angola\",\"Angola\",\"Angola\",\"Mozambique\",\"Mozambique\",\"Uganda\",\"Pakistan\",\"Maldives\",\"Cambodia\",\"Cambodia\",\"Cambodia\",\"Madagascar\",\"Cambodia\",\"Samoa\",\"Fiji\",\"Senegal\",\"Congo, Republic of the\",\"Congo, Republic of the\",\"Djibouti\",\"Papua New Guinea\",\"Lesotho\",\"Sri Lanka\",\"Sri Lanka\",\"Sri Lanka\",\"Sri Lanka\",\"Sri Lanka\",\"Zimbabwe\",\"Pakistan\",\"Mongolia\",\"Sri Lanka\",\"Sri Lanka\",\"Angola\",\"Angola\",\"Rwanda\",\"Madagascar\",\"Madagascar\",\"Suriname\",\"Indonesia\",\"Jamaica\",\"Ethiopia\",\"Uganda\",\"Pakistan\",\"Pakistan\",\"Pakistan\",\"Bangladesh\",\"Papua New Guinea\",\"Kenya\",\"Macedonia\",\"Rwanda\",\"Rwanda\",\"Cameroon\",\"Cameroon\",\"Cameroon\",\"Cameroon\",\"Kyrgyz Republic\",\"Nigeria\",\"Angola\",\"Angola\",\"Gabon\",\"Gabon\",\"Eritrea\",\"Angola\",\"Angola\",\"Angola\",\"Angola\",\"Angola\",\"Angola\",\"Vanuatu\",\"Angola\",\"Zambia\",\"Zambia\",\"Zambia\",\"Zambia\",\"Congo, Democratic Republic of the\",\"Belarus\",\"Nepal\",\"Cameroon\",\"Angola\",\"Indonesia\",\"Zambia\",\"Zambia\",\"Mozambique\",\"Mozambique\",\"Mozambique\",\"Sri Lanka\",\"Grenada\",\"Congo, Republic of the\",\"Zambia\",\"Laos\",\"Ethiopia\",\"Argentina\",\"Equatorial Guinea\",\"Ethiopia\",\"Zambia\",\"Venezuela\",\"Russian Federation\",\"Angola\",\"Namibia\",\"Rwanda\",\"Congo, Democratic Republic of the\",\"Angola\",\"Kenya\",\"Kenya\",\"Kenya\",\"Bahamas\",\"Suriname\",\"Tonga\",\"Cambodia\",\"Congo, Republic of the\",\"Congo, Republic of the\",\"Congo, Republic of the\",\"Papua New Guinea\",\"Zambia\",\"South Sudan\",\"Sudan\",\"Togo\",\"Togo\",\"Togo\",\"Kyrgyz Republic\",\"Kyrgyz Republic\",\"Jamaica\",\"Sri Lanka\",\"Mauritania\",\"Angola\",\"Serbia\",\"Pakistan\",\"Kyrgyz Republic\",\"Kyrgyz Republic\",\"Congo, Republic of the\",\"Uzbekistan\",\"Pakistan\",\"Nepal\",\"Bangladesh\",\"Montenegro\",\"Uzbekistan\",\"Uzbekistan\",\"Argentina\",\"Iran\",\"Russian Federation\",\"Angola\",\"Belarus\",\"Sri Lanka\",\"Sri Lanka\",\"Sri Lanka\",\"Sri Lanka\",\"Sri Lanka\",\"Sri Lanka\",\"Argentina\",\"Cambodia\",\"Angola\",\"Cambodia\",\"Cambodia\",\"Angola\",\"Argentina\",\"Congo, Democratic Republic of the\",\"Congo, Democratic Republic of the\",\"Congo, Democratic Republic of the\",\"Jamaica\",\"Gabon\",\"Senegal\",\"Jamaica\",\"Vanuatu\",\"Angola\",\"Angola\",\"Angola\",\"Angola\",\"Angola\",\"Vanuatu\",\"Fiji\",\"Fiji\",\"Liberia\",\"Philippines\",\"Angola\",\"Bolivia\",\"Costa Rica\",\"Argentina\",\"Cuba\",\"Angola\",\"Sudan\",\"Kenya\",\"Kenya\",\"Kenya\",\"Ethiopia\",\"Cambodia\",\"Ecuador\",\"Mauritius\",\"Indonesia\",\"Sudan\",\"Sri Lanka\",\"Philippines\",\"Angola\",\"Antigua & Barbuda\",\"Philippines\",\"Angola\",\"Angola\",\"Sri Lanka\",\"Serbia\",\"Ghana\",\"Pakistan\",\"Cambodia\",\"Senegal\",\"Cote d'Ivoire\",\"Togo\",\"Argentina\",\"Brazil\",\"Bolivia\",\"Bolivia\",\"Tunisia\",\"South Africa\",\"South Africa\",\"Sudan\",\"Congo, Democratic Republic of the\",\"Laos\",\"Antigua & Barbuda\",\"Tajikistan\",\"Zimbabwe\",\"Cameroon\",\"Sudan\",\"Tanzania\",\"Serbia\"],\"xaxis\":\"x\",\"yaxis\":\"y\",\"type\":\"histogram\"},{\"alignmentgroup\":\"True\",\"bingroup\":\"x\",\"hovertemplate\":\"SECTOR=Extraction and Pipelines<br>Country=%{x}<br>count=%{y}<extra></extra>\",\"legendgroup\":\"Extraction and Pipelines\",\"marker\":{\"color\":\"#EF553B\",\"pattern\":{\"shape\":\"\"}},\"name\":\"Extraction and Pipelines\",\"offsetgroup\":\"Extraction and Pipelines\",\"orientation\":\"v\",\"showlegend\":true,\"x\":[\"Brazil\",\"Niger\",\"Kazakhstan\",\"Brazil\",\"Uzbekistan\",\"Venezuela\",\"Bolivia\",\"Russian Federation\",\"Turkmenistan\",\"Turkmenistan\",\"Pakistan\",\"Venezuela\",\"Turkmenistan\",\"Turkmenistan\",\"Venezuela\",\"Venezuela\",\"Tanzania\",\"Brazil\",\"Brazil\",\"Russian Federation\",\"Bangladesh\",\"Venezuela\",\"Venezuela\",\"Bangladesh\",\"Brazil\",\"Russian Federation\",\"Congo, Democratic Republic of the\",\"Bangladesh\",\"Belarus\",\"Angola\",\"Angola\",\"Angola\",\"Angola\",\"Angola\",\"Brazil\",\"Mongolia\",\"Mexico\",\"Ghana\"],\"xaxis\":\"x\",\"yaxis\":\"y\",\"type\":\"histogram\"},{\"alignmentgroup\":\"True\",\"bingroup\":\"x\",\"hovertemplate\":\"SECTOR=Government<br>Country=%{x}<br>count=%{y}<extra></extra>\",\"legendgroup\":\"Government\",\"marker\":{\"color\":\"#00cc96\",\"pattern\":{\"shape\":\"\"}},\"name\":\"Government\",\"offsetgroup\":\"Government\",\"orientation\":\"v\",\"showlegend\":true,\"x\":[\"Suriname\",\"Kenya\",\"Cote d'Ivoire\",\"Cote d'Ivoire\",\"Cote d'Ivoire\",\"Ethiopia\",\"Philippines\",\"Zambia\",\"Pakistan\",\"Regional\",\"Egypt\",\"Tanzania\",\"Regional\",\"Senegal\",\"Angola\",\"Angola\",\"Angola\",\"Angola\",\"Philippines\",\"Mozambique\",\"Bolivia\",\"Cote d'Ivoire\",\"Gabon\",\"Congo, Republic of the\",\"Angola\",\"Papua New Guinea\",\"Ethiopia\",\"Bangladesh\",\"Zambia\",\"Zambia\",\"Ecuador\",\"Maldives\",\"Maldives\",\"Maldives\",\"Timor-Leste\",\"Djibouti\",\"Cameroon\",\"Congo, Republic of the\",\"Cameroon\",\"Indonesia\",\"Cameroon\",\"Pakistan\",\"Ecuador\",\"Kenya\",\"Fiji\",\"Ecuador\",\"Senegal\",\"Congo, Democratic Republic of the\",\"Zambia\",\"Nigeria\",\"Sri Lanka\",\"Zimbabwe\",\"Angola\",\"Congo, Democratic Republic of the\",\"Ghana\",\"Egypt\",\"Egypt\",\"Angola\",\"Angola\",\"Jamaica\",\"Philippines\",\"Guinea\",\"Kenya\",\"Kenya\",\"Kenya\",\"Ghana\",\"Laos\",\"Fiji\",\"Angola\",\"Zambia\",\"Angola\",\"Malawi\",\"Angola\",\"Zimbabwe\",\"Ethiopia\",\"Tanzania\",\"Zambia\",\"Mozambique\",\"Congo, Republic of the\",\"Zimbabwe\",\"Angola\",\"Papua New Guinea\",\"Samoa\",\"Samoa\",\"Senegal\",\"Ghana\",\"Cameroon\",\"Zambia\",\"Sudan\",\"Bangladesh\",\"Jamaica\",\"Ghana\",\"Niger\",\"Cameroon\",\"Cameroon\",\"Regional\",\"Regional\",\"Myanmar\",\"Zambia\",\"Bangladesh\",\"Kenya\",\"Angola\",\"Argentina\",\"Kenya\",\"Regional\",\"Regional\",\"Regional\",\"Ethiopia\",\"Zambia\",\"Egypt\",\"Egypt\",\"Ethiopia\",\"Mozambique\",\"Egypt\",\"Cameroon\",\"Cambodia\",\"Papua New Guinea\",\"Angola\",\"Regional\",\"Ghana\",\"Cambodia\",\"Russian Federation\",\"Angola\",\"Angola\",\"Angola\",\"Angola\",\"Angola\",\"Angola\",\"Angola\",\"Angola\",\"Angola\",\"Angola\",\"Angola\",\"Regional\",\"Regional\",\"Regional\",\"Cameroon\",\"Zambia\"],\"xaxis\":\"x\",\"yaxis\":\"y\",\"type\":\"histogram\"},{\"alignmentgroup\":\"True\",\"bingroup\":\"x\",\"hovertemplate\":\"SECTOR=Power<br>Country=%{x}<br>count=%{y}<extra></extra>\",\"legendgroup\":\"Power\",\"marker\":{\"color\":\"#ab63fa\",\"pattern\":{\"shape\":\"\"}},\"name\":\"Power\",\"offsetgroup\":\"Power\",\"orientation\":\"v\",\"showlegend\":true,\"x\":[\"Cambodia\",\"Cambodia\",\"Cambodia\",\"Congo, Democratic Republic of the\",\"Laos\",\"Laos\",\"Cambodia\",\"Zambia\",\"Laos\",\"Ethiopia\",\"Ethiopia\",\"Ethiopia\",\"Ethiopia\",\"Indonesia\",\"Togo\",\"Benin\",\"Sudan\",\"Uzbekistan\",\"Jordan\",\"Ethiopia\",\"Mauritius\",\"Pakistan\",\"Indonesia\",\"Indonesia\",\"Belarus\",\"Kyrgyz Republic\",\"Nepal\",\"Ghana\",\"Ghana\",\"Pakistan\",\"Congo, Democratic Republic of the\",\"Argentina\",\"Indonesia\",\"Pakistan\",\"Indonesia\",\"Indonesia\",\"Vietnam\",\"Ecuador\",\"Ecuador\",\"Argentina\",\"Senegal\",\"Kyrgyz Republic\",\"Ecuador\",\"Ecuador\",\"Ecuador\",\"Tajikistan\",\"Vietnam\",\"Vietnam\",\"Vietnam\",\"Egypt\",\"Dominican Republic\",\"Uganda\",\"Angola\",\"Angola\",\"Angola\",\"Angola\",\"Ecuador\",\"Ethiopia\",\"Bangladesh\",\"Kenya\",\"Ukraine\",\"Ethiopia\",\"Ethiopia\",\"Ethiopia\",\"Ethiopia\",\"Senegal\",\"Mali\",\"Gabon\",\"Guyana\",\"Vietnam\",\"Sri Lanka\",\"Eritrea\",\"Laos\",\"Pakistan\",\"Zimbabwe\",\"Indonesia\",\"Uganda\",\"Indonesia\",\"Morocco\",\"Cuba\",\"Zambia\",\"Pakistan\",\"Zambia\",\"Zimbabwe\",\"Zimbabwe\",\"Uganda\",\"Kenya\",\"Tajikistan\",\"Cambodia\",\"Bangladesh\",\"Serbia\",\"Angola\",\"Gabon\",\"Congo, Republic of the\",\"Congo, Republic of the\",\"Cambodia\",\"Serbia\",\"Zambia\",\"Philippines\",\"Equatorial Guinea\",\"Angola\",\"South Africa\",\"South Africa\",\"Cameroon\",\"Cameroon\",\"Cameroon\",\"Ecuador\",\"Belarus\",\"Sri Lanka\",\"Fiji\",\"Indonesia\",\"Kenya\",\"Kenya\",\"Laos\",\"Laos\",\"Laos\",\"Laos\",\"Laos\",\"Laos\",\"Laos\",\"Cote d'Ivoire\",\"Pakistan\",\"Pakistan\",\"Sri Lanka\",\"Ecuador\",\"Ecuador\",\"Kenya\",\"Kenya\",\"Kenya\",\"Indonesia\",\"Indonesia\",\"Laos\",\"Indonesia\",\"Indonesia\",\"Indonesia\",\"Indonesia\",\"Indonesia\",\"Bangladesh\",\"Indonesia\",\"Cambodia\",\"Indonesia\",\"Brazil\",\"Sri Lanka\",\"Kenya\",\"Togo\",\"Vietnam\",\"Kenya\",\"Pakistan\",\"Madagascar\",\"Tajikistan\",\"Indonesia\",\"Belarus\",\"Bolivia\",\"Cambodia\",\"Cambodia\",\"Cambodia\",\"Cambodia\",\"Laos\",\"Myanmar\",\"Togo\",\"Ecuador\",\"Niger\",\"Guinea\",\"Cote d'Ivoire\",\"Sudan\",\"Angola\",\"Maldives\",\"Cambodia\",\"Indonesia\",\"Indonesia\",\"Indonesia\",\"Indonesia\",\"Mali\",\"Pakistan\",\"Indonesia\",\"Vietnam\",\"Sri Lanka\",\"Pakistan\",\"Kazakhstan\",\"Venezuela\",\"Nigeria\",\"Congo, Republic of the\",\"Nepal\",\"Bosnia & Herzegovina\",\"Tajikistan\",\"Vietnam\",\"Uzbekistan\",\"Angola\",\"Angola\",\"Angola\",\"Nepal\",\"Myanmar\",\"Argentina\",\"Ecuador\",\"Vietnam\",\"Vietnam\",\"Vietnam\",\"Belarus\",\"Vietnam\",\"Nepal\",\"Laos\",\"Congo, Democratic Republic of the\",\"Nigeria\"],\"xaxis\":\"x\",\"yaxis\":\"y\",\"type\":\"histogram\"},{\"alignmentgroup\":\"True\",\"bingroup\":\"x\",\"hovertemplate\":\"SECTOR=Mulit-sector and discretionary<br>Country=%{x}<br>count=%{y}<extra></extra>\",\"legendgroup\":\"Mulit-sector and discretionary\",\"marker\":{\"color\":\"#FFA15A\",\"pattern\":{\"shape\":\"\"}},\"name\":\"Mulit-sector and discretionary\",\"offsetgroup\":\"Mulit-sector and discretionary\",\"orientation\":\"v\",\"showlegend\":true,\"x\":[\"Kenya\",\"Ecuador\",\"Philippines\",\"Sudan\",\"Trinidad and Tobago\",\"Ecuador\",\"Peru\",\"Venezuela\",\"Venezuela\",\"Venezuela\",\"Venezuela\",\"Serbia\",\"Morocco\",\"Uganda\",\"Jamaica\",\"Venezuela\",\"Venezuela\",\"Ecuador\",\"Regional\",\"Angola\",\"Chad\",\"Venezuela\",\"Trinidad and Tobago\",\"Argentina\",\"Brazil\",\"Vietnam\",\"Eritrea\",\"Eritrea\",\"Eritrea\",\"Ecuador\"],\"xaxis\":\"x\",\"yaxis\":\"y\",\"type\":\"histogram\"},{\"alignmentgroup\":\"True\",\"bingroup\":\"x\",\"hovertemplate\":\"SECTOR=Telecom<br>Country=%{x}<br>count=%{y}<extra></extra>\",\"legendgroup\":\"Telecom\",\"marker\":{\"color\":\"#19d3f3\",\"pattern\":{\"shape\":\"\"}},\"name\":\"Telecom\",\"offsetgroup\":\"Telecom\",\"orientation\":\"v\",\"showlegend\":true,\"x\":[\"Bangladesh\",\"Benin\",\"Nigeria\",\"Togo\",\"Zambia\",\"Cameroon\",\"Cameroon\",\"Bangladesh\",\"Zambia\",\"Mozambique\",\"Congo, Republic of the\",\"Togo\",\"Ghana\",\"Senegal\",\"Ghana\",\"Ghana\",\"Angola\",\"Angola\",\"Cameroon\",\"Cameroon\",\"Kenya\",\"Niger\",\"Mali\",\"Congo, Democratic Republic of the\",\"Congo, Democratic Republic of the\",\"Gambia\",\"Congo, Democratic Republic of the\",\"Tanzania\",\"Tanzania\",\"Tanzania\",\"Nigeria\",\"Bangladesh\",\"Papua New Guinea\",\"Papua New Guinea\",\"Sri Lanka\",\"Mali\",\"Mozambique\",\"Angola\",\"Guinea\",\"Uganda\",\"Mali\",\"Suriname\",\"Senegal\",\"Cameroon\",\"Kenya\",\"Nigeria\",\"Cameroon\",\"Congo, Republic of the\",\"Zimbabwe\",\"Zimbabwe\",\"Pakistan\",\"Pakistan\",\"Zimbabwe\",\"Belarus\",\"Zambia\",\"Guinea\",\"Cameroon\",\"Comoros\",\"Zimbabwe\",\"Bangladesh\",\"Bolivia\",\"Vanuatu\",\"Russian Federation\"],\"xaxis\":\"x\",\"yaxis\":\"y\",\"type\":\"histogram\"},{\"alignmentgroup\":\"True\",\"bingroup\":\"x\",\"hovertemplate\":\"SECTOR=Other construction<br>Country=%{x}<br>count=%{y}<extra></extra>\",\"legendgroup\":\"Other construction\",\"marker\":{\"color\":\"#FF6692\",\"pattern\":{\"shape\":\"\"}},\"name\":\"Other construction\",\"offsetgroup\":\"Other construction\",\"orientation\":\"v\",\"showlegend\":true,\"x\":[\"Bahamas\",\"Malawi\",\"Malawi\",\"Congo, Republic of the\",\"Angola\",\"Angola\",\"Angola\",\"Angola\",\"Ghana\",\"Belarus\",\"Samoa\",\"Benin\",\"Iran\",\"Bolivia\",\"Ethiopia\",\"Angola\",\"Ecuador\",\"Egypt\",\"Cameroon\",\"Cameroon\",\"Zambia\",\"Angola\",\"Congo, Republic of the\",\"Congo, Republic of the\",\"Equatorial Guinea\",\"Ecuador\",\"Barbados\",\"Tonga\",\"Papua New Guinea\"],\"xaxis\":\"x\",\"yaxis\":\"y\",\"type\":\"histogram\"},{\"alignmentgroup\":\"True\",\"bingroup\":\"x\",\"hovertemplate\":\"SECTOR=Agricultiure and Food<br>Country=%{x}<br>count=%{y}<extra></extra>\",\"legendgroup\":\"Agricultiure and Food\",\"marker\":{\"color\":\"#B6E880\",\"pattern\":{\"shape\":\"\"}},\"name\":\"Agricultiure and Food\",\"offsetgroup\":\"Agricultiure and Food\",\"orientation\":\"v\",\"showlegend\":true,\"x\":[\"Myanmar\",\"Mozambique\",\"Eritrea\",\"Mozambique\",\"Angola\",\"Angola\",\"Mozambique\",\"Angola\",\"Angola\",\"Angola\",\"Ethiopia\",\"Angola\",\"Angola\",\"Angola\",\"Angola\",\"Myanmar\",\"Mali\",\"Ethiopia\",\"Ethiopia\",\"Papua New Guinea\",\"Angola\",\"Ukraine\",\"Angola\",\"Regional\",\"Zambia\",\"Brazil\",\"Ethiopia\"],\"xaxis\":\"x\",\"yaxis\":\"y\",\"type\":\"histogram\"},{\"alignmentgroup\":\"True\",\"bingroup\":\"x\",\"hovertemplate\":\"SECTOR=Manufacturing<br>Country=%{x}<br>count=%{y}<extra></extra>\",\"legendgroup\":\"Manufacturing\",\"marker\":{\"color\":\"#FF97FF\",\"pattern\":{\"shape\":\"\"}},\"name\":\"Manufacturing\",\"offsetgroup\":\"Manufacturing\",\"orientation\":\"v\",\"showlegend\":true,\"x\":[\"Angola\",\"Kazakhstan\",\"Bangladesh\",\"Uzbekistan\",\"Kazakhstan\",\"Kazakhstan\",\"Uzbekistan\",\"Chad\",\"Venezuela\",\"Kazakhstan\",\"Uzbekistan\",\"Russian Federation\"],\"xaxis\":\"x\",\"yaxis\":\"y\",\"type\":\"histogram\"}],                        {\"template\":{\"data\":{\"bar\":[{\"error_x\":{\"color\":\"#2a3f5f\"},\"error_y\":{\"color\":\"#2a3f5f\"},\"marker\":{\"line\":{\"color\":\"#E5ECF6\",\"width\":0.5},\"pattern\":{\"fillmode\":\"overlay\",\"size\":10,\"solidity\":0.2}},\"type\":\"bar\"}],\"barpolar\":[{\"marker\":{\"line\":{\"color\":\"#E5ECF6\",\"width\":0.5},\"pattern\":{\"fillmode\":\"overlay\",\"size\":10,\"solidity\":0.2}},\"type\":\"barpolar\"}],\"carpet\":[{\"aaxis\":{\"endlinecolor\":\"#2a3f5f\",\"gridcolor\":\"white\",\"linecolor\":\"white\",\"minorgridcolor\":\"white\",\"startlinecolor\":\"#2a3f5f\"},\"baxis\":{\"endlinecolor\":\"#2a3f5f\",\"gridcolor\":\"white\",\"linecolor\":\"white\",\"minorgridcolor\":\"white\",\"startlinecolor\":\"#2a3f5f\"},\"type\":\"carpet\"}],\"choropleth\":[{\"colorbar\":{\"outlinewidth\":0,\"ticks\":\"\"},\"type\":\"choropleth\"}],\"contour\":[{\"colorbar\":{\"outlinewidth\":0,\"ticks\":\"\"},\"colorscale\":[[0.0,\"#0d0887\"],[0.1111111111111111,\"#46039f\"],[0.2222222222222222,\"#7201a8\"],[0.3333333333333333,\"#9c179e\"],[0.4444444444444444,\"#bd3786\"],[0.5555555555555556,\"#d8576b\"],[0.6666666666666666,\"#ed7953\"],[0.7777777777777778,\"#fb9f3a\"],[0.8888888888888888,\"#fdca26\"],[1.0,\"#f0f921\"]],\"type\":\"contour\"}],\"contourcarpet\":[{\"colorbar\":{\"outlinewidth\":0,\"ticks\":\"\"},\"type\":\"contourcarpet\"}],\"heatmap\":[{\"colorbar\":{\"outlinewidth\":0,\"ticks\":\"\"},\"colorscale\":[[0.0,\"#0d0887\"],[0.1111111111111111,\"#46039f\"],[0.2222222222222222,\"#7201a8\"],[0.3333333333333333,\"#9c179e\"],[0.4444444444444444,\"#bd3786\"],[0.5555555555555556,\"#d8576b\"],[0.6666666666666666,\"#ed7953\"],[0.7777777777777778,\"#fb9f3a\"],[0.8888888888888888,\"#fdca26\"],[1.0,\"#f0f921\"]],\"type\":\"heatmap\"}],\"heatmapgl\":[{\"colorbar\":{\"outlinewidth\":0,\"ticks\":\"\"},\"colorscale\":[[0.0,\"#0d0887\"],[0.1111111111111111,\"#46039f\"],[0.2222222222222222,\"#7201a8\"],[0.3333333333333333,\"#9c179e\"],[0.4444444444444444,\"#bd3786\"],[0.5555555555555556,\"#d8576b\"],[0.6666666666666666,\"#ed7953\"],[0.7777777777777778,\"#fb9f3a\"],[0.8888888888888888,\"#fdca26\"],[1.0,\"#f0f921\"]],\"type\":\"heatmapgl\"}],\"histogram\":[{\"marker\":{\"pattern\":{\"fillmode\":\"overlay\",\"size\":10,\"solidity\":0.2}},\"type\":\"histogram\"}],\"histogram2d\":[{\"colorbar\":{\"outlinewidth\":0,\"ticks\":\"\"},\"colorscale\":[[0.0,\"#0d0887\"],[0.1111111111111111,\"#46039f\"],[0.2222222222222222,\"#7201a8\"],[0.3333333333333333,\"#9c179e\"],[0.4444444444444444,\"#bd3786\"],[0.5555555555555556,\"#d8576b\"],[0.6666666666666666,\"#ed7953\"],[0.7777777777777778,\"#fb9f3a\"],[0.8888888888888888,\"#fdca26\"],[1.0,\"#f0f921\"]],\"type\":\"histogram2d\"}],\"histogram2dcontour\":[{\"colorbar\":{\"outlinewidth\":0,\"ticks\":\"\"},\"colorscale\":[[0.0,\"#0d0887\"],[0.1111111111111111,\"#46039f\"],[0.2222222222222222,\"#7201a8\"],[0.3333333333333333,\"#9c179e\"],[0.4444444444444444,\"#bd3786\"],[0.5555555555555556,\"#d8576b\"],[0.6666666666666666,\"#ed7953\"],[0.7777777777777778,\"#fb9f3a\"],[0.8888888888888888,\"#fdca26\"],[1.0,\"#f0f921\"]],\"type\":\"histogram2dcontour\"}],\"mesh3d\":[{\"colorbar\":{\"outlinewidth\":0,\"ticks\":\"\"},\"type\":\"mesh3d\"}],\"parcoords\":[{\"line\":{\"colorbar\":{\"outlinewidth\":0,\"ticks\":\"\"}},\"type\":\"parcoords\"}],\"pie\":[{\"automargin\":true,\"type\":\"pie\"}],\"scatter\":[{\"marker\":{\"colorbar\":{\"outlinewidth\":0,\"ticks\":\"\"}},\"type\":\"scatter\"}],\"scatter3d\":[{\"line\":{\"colorbar\":{\"outlinewidth\":0,\"ticks\":\"\"}},\"marker\":{\"colorbar\":{\"outlinewidth\":0,\"ticks\":\"\"}},\"type\":\"scatter3d\"}],\"scattercarpet\":[{\"marker\":{\"colorbar\":{\"outlinewidth\":0,\"ticks\":\"\"}},\"type\":\"scattercarpet\"}],\"scattergeo\":[{\"marker\":{\"colorbar\":{\"outlinewidth\":0,\"ticks\":\"\"}},\"type\":\"scattergeo\"}],\"scattergl\":[{\"marker\":{\"colorbar\":{\"outlinewidth\":0,\"ticks\":\"\"}},\"type\":\"scattergl\"}],\"scattermapbox\":[{\"marker\":{\"colorbar\":{\"outlinewidth\":0,\"ticks\":\"\"}},\"type\":\"scattermapbox\"}],\"scatterpolar\":[{\"marker\":{\"colorbar\":{\"outlinewidth\":0,\"ticks\":\"\"}},\"type\":\"scatterpolar\"}],\"scatterpolargl\":[{\"marker\":{\"colorbar\":{\"outlinewidth\":0,\"ticks\":\"\"}},\"type\":\"scatterpolargl\"}],\"scatterternary\":[{\"marker\":{\"colorbar\":{\"outlinewidth\":0,\"ticks\":\"\"}},\"type\":\"scatterternary\"}],\"surface\":[{\"colorbar\":{\"outlinewidth\":0,\"ticks\":\"\"},\"colorscale\":[[0.0,\"#0d0887\"],[0.1111111111111111,\"#46039f\"],[0.2222222222222222,\"#7201a8\"],[0.3333333333333333,\"#9c179e\"],[0.4444444444444444,\"#bd3786\"],[0.5555555555555556,\"#d8576b\"],[0.6666666666666666,\"#ed7953\"],[0.7777777777777778,\"#fb9f3a\"],[0.8888888888888888,\"#fdca26\"],[1.0,\"#f0f921\"]],\"type\":\"surface\"}],\"table\":[{\"cells\":{\"fill\":{\"color\":\"#EBF0F8\"},\"line\":{\"color\":\"white\"}},\"header\":{\"fill\":{\"color\":\"#C8D4E3\"},\"line\":{\"color\":\"white\"}},\"type\":\"table\"}]},\"layout\":{\"annotationdefaults\":{\"arrowcolor\":\"#2a3f5f\",\"arrowhead\":0,\"arrowwidth\":1},\"autotypenumbers\":\"strict\",\"coloraxis\":{\"colorbar\":{\"outlinewidth\":0,\"ticks\":\"\"}},\"colorscale\":{\"diverging\":[[0,\"#8e0152\"],[0.1,\"#c51b7d\"],[0.2,\"#de77ae\"],[0.3,\"#f1b6da\"],[0.4,\"#fde0ef\"],[0.5,\"#f7f7f7\"],[0.6,\"#e6f5d0\"],[0.7,\"#b8e186\"],[0.8,\"#7fbc41\"],[0.9,\"#4d9221\"],[1,\"#276419\"]],\"sequential\":[[0.0,\"#0d0887\"],[0.1111111111111111,\"#46039f\"],[0.2222222222222222,\"#7201a8\"],[0.3333333333333333,\"#9c179e\"],[0.4444444444444444,\"#bd3786\"],[0.5555555555555556,\"#d8576b\"],[0.6666666666666666,\"#ed7953\"],[0.7777777777777778,\"#fb9f3a\"],[0.8888888888888888,\"#fdca26\"],[1.0,\"#f0f921\"]],\"sequentialminus\":[[0.0,\"#0d0887\"],[0.1111111111111111,\"#46039f\"],[0.2222222222222222,\"#7201a8\"],[0.3333333333333333,\"#9c179e\"],[0.4444444444444444,\"#bd3786\"],[0.5555555555555556,\"#d8576b\"],[0.6666666666666666,\"#ed7953\"],[0.7777777777777778,\"#fb9f3a\"],[0.8888888888888888,\"#fdca26\"],[1.0,\"#f0f921\"]]},\"colorway\":[\"#636efa\",\"#EF553B\",\"#00cc96\",\"#ab63fa\",\"#FFA15A\",\"#19d3f3\",\"#FF6692\",\"#B6E880\",\"#FF97FF\",\"#FECB52\"],\"font\":{\"color\":\"#2a3f5f\"},\"geo\":{\"bgcolor\":\"white\",\"lakecolor\":\"white\",\"landcolor\":\"#E5ECF6\",\"showlakes\":true,\"showland\":true,\"subunitcolor\":\"white\"},\"hoverlabel\":{\"align\":\"left\"},\"hovermode\":\"closest\",\"mapbox\":{\"style\":\"light\"},\"paper_bgcolor\":\"white\",\"plot_bgcolor\":\"#E5ECF6\",\"polar\":{\"angularaxis\":{\"gridcolor\":\"white\",\"linecolor\":\"white\",\"ticks\":\"\"},\"bgcolor\":\"#E5ECF6\",\"radialaxis\":{\"gridcolor\":\"white\",\"linecolor\":\"white\",\"ticks\":\"\"}},\"scene\":{\"xaxis\":{\"backgroundcolor\":\"#E5ECF6\",\"gridcolor\":\"white\",\"gridwidth\":2,\"linecolor\":\"white\",\"showbackground\":true,\"ticks\":\"\",\"zerolinecolor\":\"white\"},\"yaxis\":{\"backgroundcolor\":\"#E5ECF6\",\"gridcolor\":\"white\",\"gridwidth\":2,\"linecolor\":\"white\",\"showbackground\":true,\"ticks\":\"\",\"zerolinecolor\":\"white\"},\"zaxis\":{\"backgroundcolor\":\"#E5ECF6\",\"gridcolor\":\"white\",\"gridwidth\":2,\"linecolor\":\"white\",\"showbackground\":true,\"ticks\":\"\",\"zerolinecolor\":\"white\"}},\"shapedefaults\":{\"line\":{\"color\":\"#2a3f5f\"}},\"ternary\":{\"aaxis\":{\"gridcolor\":\"white\",\"linecolor\":\"white\",\"ticks\":\"\"},\"baxis\":{\"gridcolor\":\"white\",\"linecolor\":\"white\",\"ticks\":\"\"},\"bgcolor\":\"#E5ECF6\",\"caxis\":{\"gridcolor\":\"white\",\"linecolor\":\"white\",\"ticks\":\"\"}},\"title\":{\"x\":0.05},\"xaxis\":{\"automargin\":true,\"gridcolor\":\"white\",\"linecolor\":\"white\",\"ticks\":\"\",\"title\":{\"standoff\":15},\"zerolinecolor\":\"white\",\"zerolinewidth\":2},\"yaxis\":{\"automargin\":true,\"gridcolor\":\"white\",\"linecolor\":\"white\",\"ticks\":\"\",\"title\":{\"standoff\":15},\"zerolinecolor\":\"white\",\"zerolinewidth\":2}}},\"xaxis\":{\"anchor\":\"y\",\"domain\":[0.0,1.0],\"title\":{\"text\":\"Country\"}},\"yaxis\":{\"anchor\":\"x\",\"domain\":[0.0,1.0],\"title\":{\"text\":\"count\"}},\"legend\":{\"title\":{\"text\":\"SECTOR\"},\"tracegroupgap\":0},\"margin\":{\"t\":60},\"barmode\":\"relative\"},                        {\"responsive\": true}                    ).then(function(){\n",
       "                            \n",
       "var gd = document.getElementById('bc6ad339-0e86-4a94-a1cb-475d8d4f1988');\n",
       "var x = new MutationObserver(function (mutations, observer) {{\n",
       "        var display = window.getComputedStyle(gd).display;\n",
       "        if (!display || display === 'none') {{\n",
       "            console.log([gd, 'removed!']);\n",
       "            Plotly.purge(gd);\n",
       "            observer.disconnect();\n",
       "        }}\n",
       "}});\n",
       "\n",
       "// Listen for the removal of the full notebook cells\n",
       "var notebookContainer = gd.closest('#notebook-container');\n",
       "if (notebookContainer) {{\n",
       "    x.observe(notebookContainer, {childList: true});\n",
       "}}\n",
       "\n",
       "// Listen for the clearing of the current output cell\n",
       "var outputEl = gd.closest('.output');\n",
       "if (outputEl) {{\n",
       "    x.observe(outputEl, {childList: true});\n",
       "}}\n",
       "\n",
       "                        })                };                });            </script>        </div>"
      ]
     },
     "metadata": {},
     "output_type": "display_data"
    }
   ],
   "source": [
    "fig6 = px.histogram(china_data,x = \"Country\", color = \"SECTOR\")\n",
    "fig6.show()"
   ]
  },
  {
   "cell_type": "markdown",
   "metadata": {},
   "source": [
    "The above graph shows the total amount investede by different sectors in different sectors."
   ]
  },
  {
   "cell_type": "code",
   "execution_count": 70,
   "metadata": {},
   "outputs": [
    {
     "data": {
      "text/plain": [
       "<matplotlib.table.Table at 0x7f039ff55c10>"
      ]
     },
     "execution_count": 70,
     "metadata": {},
     "output_type": "execute_result"
    },
    {
     "data": {
      "image/png": "[encoded data removed]",
      "text/plain": [
       "<Figure size 1080x720 with 2 Axes>"
      ]
     },
     "metadata": {
      "needs_background": "light"
     },
     "output_type": "display_data"
    }
   ],
   "source": [
    "plt.figure(figsize=(15,10))\n",
    "plt.suptitle('top 25 countries on which china invested the most(world wide)',size=20)\n",
    "data=china_data.groupby('Country').sum().reset_index().sort_values('AMOUNT',ascending=False)\n",
    "plt.subplot(1,2,1)\n",
    "plt.xticks(rotation=90)\n",
    "sns.barplot(data=data.head(25),x='Country',y='AMOUNT')\n",
    "plt.subplot(1,2,2)\n",
    "plt.axis('off')\n",
    "plt.tight_layout()\n",
    "plt.table(cellText=data.head(25).values, colLabels=data.columns, loc='center')"
   ]
  },
  {
   "cell_type": "code",
   "execution_count": 76,
   "metadata": {},
   "outputs": [
    {
     "data": {
      "image/png": "[encoded data removed]",
      "text/plain": [
       "<Figure size 1152x576 with 2 Axes>"
      ]
     },
     "metadata": {
      "needs_background": "light"
     },
     "output_type": "display_data"
    }
   ],
   "source": [
    "plt.figure(figsize=(16,8))\n",
    "\n",
    "plt.subplot(1,2,1)\n",
    "china_data.groupby('YEAR')['AMOUNT'].sum().plot.line()\n",
    "plt.subplot(1,2,2)\n",
    "y =china_data.groupby('YEAR')[['CDB','ExImBank','BOC','ICBC','others','Citic']].sum()\n",
    "\n",
    "sns.lineplot(data=y )\n",
    "# df.groupby('YEAR')[['CDB','ExImBank','BOC','ICBC','others','Citic']].sum().plot.line()\n",
    "\n",
    "plt.show()"
   ]
  },
  {
   "cell_type": "code",
   "execution_count": 78,
   "metadata": {},
   "outputs": [
    {
     "data": {
      "image/png": "[encoded data removed]",
      "text/plain": [
       "<Figure size 432x288 with 1 Axes>"
      ]
     },
     "metadata": {
      "needs_background": "light"
     },
     "output_type": "display_data"
    },
    {
     "data": {
      "image/png": "[encoded data removed]",
      "text/plain": [
       "<Figure size 1152x504 with 2 Axes>"
      ]
     },
     "metadata": {
      "needs_background": "light"
     },
     "output_type": "display_data"
    }
   ],
   "source": [
    "z =china_data.groupby('SECTOR')[['CDB','ExImBank']].sum().reset_index()\n",
    "z.plot.bar()\n",
    "\n",
    "zdf= pd.DataFrame(z)\n",
    "zdf\n",
    "plt.figure(figsize=(16,7))\n",
    "# plotting columns\n",
    "plt.subplot(2,1,1)\n",
    "sns.barplot(y=zdf[\"SECTOR\"], x=zdf[\"CDB\"], color='b',orient='h')\n",
    "plt.subplot(2,1,2)\n",
    "sns.barplot(y=zdf[\"SECTOR\"], x=zdf[\"ExImBank\"], color='r',orient='h')\n",
    " \n",
    "plt.show()"
   ]
  },
  {
   "cell_type": "markdown",
   "metadata": {},
   "source": [
    "* The lenders 'CDB' and 'ExImBank' have been plotted separately sector wise.\n",
    "* Transport is the sector in which both the lenders have invested more."
   ]
  },
  {
   "cell_type": "code",
   "execution_count": null,
   "metadata": {},
   "outputs": [],
   "source": []
  }
 ],
 "metadata": {
  "kernelspec": {
   "display_name": "Python 3",
   "language": "python",
   "name": "python3"
  },
  "language_info": {
   "codemirror_mode": {
    "name": "ipython",
    "version": 3
   },
   "file_extension": ".py",
   "mimetype": "text/x-python",
   "name": "python",
   "nbconvert_exporter": "python",
   "pygments_lexer": "ipython3",
   "version": "3.7.6"
  }
 },
 "nbformat": 4,
 "nbformat_minor": 4
}
